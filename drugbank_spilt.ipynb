{
 "cells": [
  {
   "cell_type": "code",
   "execution_count": 1,
   "outputs": [],
   "source": [
    "#!/usr/bin/env python3\n",
    "import copy\n",
    "import os\n",
    "import random\n",
    "\n",
    "from rdkit import Chem\n",
    "from rdkit.Chem.Scaffolds import MurckoScaffold\n",
    "from scipy.cluster.hierarchy import dendrogram, linkage, leaves_list, cut_tree\n",
    "from rdkit.Chem import AllChem\n",
    "from collections import Counter\n",
    "import pandas as pd\n",
    "import numpy as np\n",
    "from collections import defaultdict\n",
    "import joblib"
   ],
   "metadata": {
    "collapsed": false,
    "pycharm": {
     "name": "#%%\n"
    }
   }
  },
  {
   "cell_type": "code",
   "execution_count": 2,
   "outputs": [],
   "source": [
    "\n",
    "# copy from xiong et al. attentivefp\n",
    "class ScaffoldGenerator(object):\n",
    "    \"\"\"\n",
    "    Generate molecular scaffolds.\n",
    "    Parameters\n",
    "    ----------\n",
    "    include_chirality : : bool, optional (default False)\n",
    "        Include chirality in scaffolds.\n",
    "    \"\"\"\n",
    "\n",
    "    def __init__(self, include_chirality=False):\n",
    "        self.include_chirality = include_chirality\n",
    "\n",
    "    def get_scaffold(self, mol):\n",
    "        \"\"\"\n",
    "        Get Murcko scaffolds for molecules.\n",
    "        Murcko scaffolds are described in DOI: 10.1021/jm9602928. They are\n",
    "        essentially that part of the molecule consisting of rings and the\n",
    "        linker atoms between them.\n",
    "        Parameters\n",
    "        ----------\n",
    "        mols : array_like\n",
    "            Molecules.\n",
    "        \"\"\"\n",
    "        return MurckoScaffold.MurckoScaffoldSmiles(\n",
    "            mol=mol, includeChirality=self.include_chirality)\n",
    "\n",
    "\n",
    "# copy from xiong et al. attentivefp\n",
    "def generate_scaffold(smiles, include_chirality=False):\n",
    "    \"\"\"Compute the Bemis-Murcko scaffold for a SMILES string.\"\"\"\n",
    "    mol = Chem.MolFromSmiles(smiles)\n",
    "    engine = ScaffoldGenerator(include_chirality=include_chirality)\n",
    "    scaffold = engine.get_scaffold(mol)\n",
    "    return scaffold\n",
    "\n"
   ],
   "metadata": {
    "collapsed": false,
    "pycharm": {
     "name": "#%%\n"
    }
   }
  },
  {
   "cell_type": "code",
   "execution_count": 3,
   "outputs": [
    {
     "name": "stdout",
     "output_type": "stream",
     "text": [
      "191808\n"
     ]
    }
   ],
   "source": [
    "df = pd.read_csv(os.path.join('./datasets/drugbank1/drugbank.csv'))\n",
    "scaffolds = {}\n",
    "print(len(df))"
   ],
   "metadata": {
    "collapsed": false,
    "pycharm": {
     "name": "#%%\n"
    }
   }
  },
  {
   "cell_type": "code",
   "execution_count": 4,
   "outputs": [
    {
     "name": "stdout",
     "output_type": "stream",
     "text": [
      "1706\n"
     ]
    },
    {
     "name": "stderr",
     "output_type": "stream",
     "text": [
      "[12:10:40] Explicit valence for atom # 0 N, 4, is greater than permitted\n"
     ]
    },
    {
     "name": "stdout",
     "output_type": "stream",
     "text": [
      "error [H][N]([H])([H])[Pt](Cl)(Cl)[N]([H])([H])[H]\n"
     ]
    },
    {
     "name": "stderr",
     "output_type": "stream",
     "text": [
      "[12:10:40] Explicit valence for atom # 0 N, 4, is greater than permitted\n",
      "[12:10:41] SMILES Parse Error: syntax error while parsing: OC1=CC=CC(=C1)C-1=C2\\CCC(=N2)\\C(=C2/N\\C(\\C=C2)=C(/C2=N/C(/C=C2)=C(\\C2=CC=C\\-1N2)C1=CC(O)=CC=C1)C1=CC(O)=CC=C1)\\C1=CC(O)=CC=C1\n",
      "[12:10:41] SMILES Parse Error: Failed parsing SMILES 'OC1=CC=CC(=C1)C-1=C2\\CCC(=N2)\\C(=C2/N\\C(\\C=C2)=C(/C2=N/C(/C=C2)=C(\\C2=CC=C\\-1N2)C1=CC(O)=CC=C1)C1=CC(O)=CC=C1)\\C1=CC(O)=CC=C1' for input: 'OC1=CC=CC(=C1)C-1=C2\\CCC(=N2)\\C(=C2/N\\C(\\C=C2)=C(/C2=N/C(/C=C2)=C(\\C2=CC=C\\-1N2)C1=CC(O)=CC=C1)C1=CC(O)=CC=C1)\\C1=CC(O)=CC=C1'\n",
      "[12:10:41] Explicit valence for atom # 0 N, 4, is greater than permitted\n"
     ]
    },
    {
     "name": "stdout",
     "output_type": "stream",
     "text": [
      "error [H][N]([H])([H])[Pt]1(OCC(=O)O1)[N]([H])([H])[H]\n",
      "error OC1=CC=CC(=C1)C-1=C2\\CCC(=N2)\\C(=C2/N\\C(\\C=C2)=C(/C2=N/C(/C=C2)=C(\\C2=CC=C\\-1N2)C1=CC(O)=CC=C1)C1=CC(O)=CC=C1)\\C1=CC(O)=CC=C1\n",
      "error [H][N]([H])([H])[Pt]1(OC(=O)C2(CCC2)C(=O)O1)[N]([H])([H])[H]\n",
      "error [H][N]1([H])[C@@H]2CCCC[C@H]2[N]([H])([H])[Pt]11OC(=O)C(=O)O1\n"
     ]
    },
    {
     "name": "stderr",
     "output_type": "stream",
     "text": [
      "[12:10:41] Explicit valence for atom # 0 N, 4, is greater than permitted\n"
     ]
    },
    {
     "data": {
      "text/plain": "['datasets/drugbank1/scaffolds.pkl']"
     },
     "execution_count": 4,
     "metadata": {},
     "output_type": "execute_result"
    }
   ],
   "source": [
    "drug_set = set()\n",
    "\n",
    "for i in range(len(df)):\n",
    "    drug_set.add(df.loc[i, 'Drug1'])\n",
    "    drug_set.add(df.loc[i, 'Drug2'])\n",
    "\n",
    "print(len(drug_set))\n",
    "\n",
    "for d in drug_set:\n",
    "    try:\n",
    "        scaffold = generate_scaffold(d)\n",
    "        if scaffolds.__contains__(scaffold):\n",
    "            scaffolds[scaffold].append(d)\n",
    "        else:\n",
    "            scaffolds[scaffold] = [d]\n",
    "    except:\n",
    "        print(\"error\", d)\n",
    "        # df.drop(index=i, inplace=True)\n",
    "        continue\n",
    "# df = df.reset_index()\n",
    "joblib.dump(scaffolds, \"datasets/drugbank1/scaffolds.pkl\")\n"
   ],
   "metadata": {
    "collapsed": false,
    "pycharm": {
     "name": "#%%\n"
    }
   }
  },
  {
   "cell_type": "code",
   "execution_count": 11,
   "outputs": [],
   "source": [
    "smile_scafold = {}\n",
    "for i in range(len(df)):\n",
    "    smile_scafold[df.loc[i,'Drug1']] = generate_scaffold(df.loc[i,'Drug1'])\n",
    "    smile_scafold[df.loc[i,'Drug2']] = generate_scaffold(df.loc[i,'Drug2'])"
   ],
   "metadata": {
    "collapsed": false,
    "pycharm": {
     "name": "#%%\n"
    }
   }
  },
  {
   "cell_type": "code",
   "execution_count": 73,
   "outputs": [
    {
     "name": "stdout",
     "output_type": "stream",
     "text": [
      "dict_keys(['O=c1ccc2cc3ccoc3cc2o1', 'C1=CCC2C(=C1)c1cc3ccc(cc4nc(cc5ccc(cc2n1)[nH]5)C=C4)[nH]3', '', 'O=C(c1ccccc1)c1cccs1', 'c1ccc2c(c1)Nc1ccccc1S2', 'O=C(c1ccccc1)c1ccccc1', 'O=c1nc2[nH]c3ccccc3nc-2c(=O)[nH]1', 'c1ccc2c(c1)[nH]c1ccccc12', 'O=C(OC1C[N+]2(CCCOc3ccccc3)CCC1CC2)C(c1cccs1)c1cccs1', 'O=C(Cc1ccccc1)OC1CC2[NH2+]C(C1)C1OC21', 'O=C(Cc1ccccc1)OC1CC2CCC(C1)N2', 'O=C1Nc2cccnc2N(C(=O)CN2CCNCC2)c2ccccc21', 'c1ccc2c(c1)Cc1ccccc1N1CCNCC21', 'O=C1N(Cc2ccccc2)C2C[S+]3CCCC3C2N1Cc1ccccc1', 'O=C(NCC1CCCN1)c1ccccc1', 'C1CC2CCC(C1)[NH2+]2', 'c1ccc(COCC[N+]23CCC(C(c4ccccc4)c4ccccc4)(CC2)CC3)cc1', 'C(CC[NH+]1CCCC1)CC[NH+]1CCCC1', 'c1ccc2c(c1)Sc1ccccc1N2CC1CN2CCC1CC2', 'c1ccccc1', 'O=C(CC[NH+]1CCc2ccccc2C1Cc1ccccc1)OCCCCCOC(=O)CC[NH+]1CCc2ccccc2C1Cc1ccccc1.c1ccccc1.c1ccccc1', 'O=C(OC1CC2[NH2+]C(C1)C1OC21)C(c1cccs1)c1cccs1', 'C1=CC2CC1CC2C(CCN1CCCCC1)c1ccccc1', 'O=C(OC1CC[NH2+]C1)C(c1ccccc1)C1CCCC1', 'O=C(Cc1ccccc1)OC1CC2CCC(C1)[NH2+]2', 'C1=Cc2ccccc2C(=C2CCNCC2)c2ccccc21', 'c1ccc(-c2ccc(NCCN3CCOCC3)nn2)cc1', 'c1ccc(C(c2ccccc2)C2CCN(CCc3ccc4c(c3)CCO4)C2)cc1', 'c1ccc2c(c1)CCc1sccc1C2=C1CCNCC1', 'c1ccc(Cc2ccccc2)cc1', 'c1ccc2c(c1)CCc1cccnc1C2=C1CCNCC1', 'c1ccc(CC2CCCCC2)cc1', 'c1ccc(Cc2ccccn2)cc1', 'C1CCN(C2CCC3CCC4C5CC([NH+]6CCCCC6)CC5CCC4C3C2)CC1', 'c1ccc(C(OCCC2CCCN2)c2ccccc2)cc1', 'O=C(NNCc1ccccc1)c1ccon1', 'c1ccc(C(CCN2CCCC2)C2CCCCC2)cc1', 'C1CC2CCC1C2', 'O=C(OC1CN2CCC1CC2)N1CCc2ccccc2C1c1ccccc1', 'c1ccc2c(c1)Cc1ccccc1O2', 'O=C(Cc1ccccc1)OC1CC2NC(C1)C1OC21', 'c1ccc2c(c1)c1c3n2CCNC3CCC1', 'c1cc2cc(c1)Oc1ccc3c(c1)C(Cc1ccc(cc1)Oc1cccc4c1C(C2)[NH2+]CC4)NCC3', 'O=C(NCCN1CCOCC1)c1ccccc1', 'c1ccc2c(c1)CCC2', 'O=C(OC1CC2CCC(C1)[N+]21CCCC1)C(c1ccccc1)c1ccccc1', 'O=C1OCCN1N=Cc1ccco1', 'c1ccc2c(CC3CC4CCN3CC4)ccnc2c1', 'O=C(OC1CCNCC1)C(c1ccccc1)c1ccccc1', 'c1ccc(C(CCN2CCCCC2)C2CCCCC2)cc1', 'c1ccc(C2CC2)cc1', 'c1ccc2c(c1)Sc1ccccc1C2CC1CCCNC1', 'c1ccc2[s+]c3ccccc3nc2c1', 'C1C2CC3CC1CC(C2)C3', 'C1CN(C2CCC3CCC4C5CC(N6CC[NH2+]CC6)CC5CCC4C3C2)CC[NH2+]1', 'O=C(Cc1ccccc1)NCc1ccncc1', 'O=C1OCCN1c1ccccc1', 'C1CC[NH+](C2CCC3CCC4C5CC([NH+]6CCCCC6)CC5CCC4C3C2)CC1', 'c1ccc(CC2CCCC2)cc1', 'c1ccc(C(OC2CC3CCC(C2)N3)c2ccccc2)cc1', 'C1CCC(C2CCCCC2)CC1', 'O=C1CCC2C1CCC1c3ccccc3CCC12', 'O=C1C=CC2C(=C1)CCC1C3CCCC3CC(=O)C21', 'O=C1C=CC2C(=C1)CCC1C3CCCC3CCC21', 'C=C1CC2CCC3C4C=CC(=O)C=C4CCC3C2C1', 'O=C1C=C2CCC3C4CCCC4CCC3C2CC1', 'O=C1C=CC2C(=C1)CCC1C2CCC2C1CC1OCOC12', 'O=C1C=CC2C(=C1)CCC1C2CCC2C1CC1OC=NC12', 'O=C1C=C2CCC3C4CCC(=O)C4CCC3C2CC1', 'O=C1C=CC2C(=C1)CCC1C2CCC2C(OC(=O)c3ccco3)CCC21', 'O=C1C=CC2C(=C1)CCC1C2CCC2C1CC1OC3(CCCC3)OC12', 'O=C1CCC2C3=CCc4ccccc4C3CCC12', 'O=C1C=CC2C(=C1)CCC1C2CCC2C1CC1OC(C3CCCCC3)OC12', 'O=C1C=C2CCC3C(CCC4C3CC3OCOC34)C2CC1', 'O=C1CCC2C1CCC1C3CCCCC3=CCC21', 'O=C1C=C2CCC3C4CCCC4CC(=O)C3C2CC1', 'O=C(Cc1ccccc1)NC1C(=O)N2CCSC12', 'O=C1C=CC=CCCCCCCCCC=COC2Oc3ccc4c(c3C2=O)C2=NC3(CCNCC3)NC2=C(N1)C4=O', 'O=c1cc[nH]n1-c1ccccc1', 'O=C1NC(=O)C(c2ccccc2)(c2ccccc2)N1', 'O=C1CCCCOC(=O)CC(OC2CCCCO2)CC(OC2CCCCO2)CCC1', 'O=S1(=O)CCCc2ccsc21', 'O=C1CC(=O)NC(=S)N1', 'O=C(OC1CCN(Cc2ccccc2)C1)C1=CNC=CC1c1ccccc1', 'O=C1C=CC=CCCCCCCCCC=COC2Oc3ccc4cc(c(C=NN5CCNCC5)cc4c3C2=O)N1', 'c1ccc(Nc2ccccc2)cc1', 'c1ccc(CCNCc2ccccc2)cc1', 'O=C(CCc1ccccc1)OC1C=C2CC(=O)C3CCC4OCC4C3C(OC(=O)c3ccccc3)C(C2)C1', 'C1CCC2C(C1)CCC1C3CCCC3CCC21', 'O=c1nc(-c2cccc(S(=O)(=O)N3CCNCC3)c2)[nH]n2cncc12', 'c1nc(-c2cnn(CC3CCCC3)c2)c2cc[nH]c2n1', 'C1=Cc2ccccc2Nc2ccccc21', 'O=C(NC1C(=O)N2CCSC12)c1cccc2ccccc12', 'O=C(OCCNCc1ccccc1)C1=CNC=CC1c1ccccc1', 'c1ccc2c(c1)Sc1ccccc1N2CCCN1CCCCC1', 'O=C(NC1=Nc2cc(OCCCN3CCOCC3)ccc2C2=NCCN12)c1cncnc1', 'O=C1NCNC(=O)C1c1ccccc1', 'O=c1ccn(C2CCCO2)c(=O)[nH]1', 'O=C1CCC2C3Cc4cccc5c4C2(CCN3)C1O5', 'O=C1NC(=O)C(c2ccccc2)C(=O)N1', 'O=C1Cc2ccccc2Sc2ccccc21', 'c1ccc(C2CCN(CCC(c3ccccc3)c3ccccc3)CC2)cc1', 'c1ccc(C(COc2ncccn2)c2ccccc2)cc1', 'O=C1c2ccccc2C(=O)C1c1ccccc1', 'O=C1CC(=O)NC(=O)N1', 'C1=CCCCC1', 'O=C1Nc2cccnc2N(C2CC2)c2ncccc21', 'O=C1CCc2cncnc2N1Cc1ccc(-c2ccccc2-c2nn[nH]n2)cc1', 'O=c1n(CCCN2CCN(c3ccccc3)CC2)nc2ccccn12', 'c1ccc(-c2conc2-c2ccccc2)cc1', 'O=C1C=CC=CCCCCCCCCC=COC2Oc3ccc4cc(c(C=NN5CCN(C6CCCC6)CC5)cc4c3C2=O)N1', 'c1cncc(CN2CCC(=C3c4ccccc4CCc4cccnc43)CC2)c1', 'O=C1c2ccccc2C(=O)c2cc3c(cc21)CCCC3OC1CCCCO1', 'c1ccc(-c2ncoc2-c2ccccc2)cc1', 'c1ccc(C2CCCCC2)cc1', 'C=C1CCCCC1=CC=C1CCCC2CCCC12', 'O=C(NN1CCc2ccccc21)c1ccccc1', 'c1cc2c3c(c1)OC1CCCC4C(C2)NCCC314', 'C1=CC(c2ccccc2)C=CN1', 'O=S(Cc1ccccn1)c1nc2ccccc2[nH]1', 'O=C1CN=C(c2ccccn2)c2ccccc2N1', 'O=C1CN=C(c2ccccc2)c2ccsc2N1', 'O=C(Nc1cccc(-c2ccccn2)c1)c1ccccc1', 'c1ccc(CN(CCN2CCCC2)c2ccccc2)cc1', 'O=c1[nH]nc(CN2CCOC(OCc3ccccc3)C2c2ccccc2)[nH]1', 'O=C1CC(=O)N(c2ccccc2)N1c1ccccc1', 'C=C1c2ccccc2C=Cc2ccccc21', 'c1ccc(OCCCN2CCC(c3noc4ccccc34)CC2)cc1', 'O=C1CNC(=O)CNC(=O)CNC(=O)CNC(=O)CNC(=O)CNC(=O)CNC(=O)CNC(=O)CNC(=O)CNC(=O)CN1', 'O=C1c2c([nH]c3ccccc23)CCC1Cn1ccnc1', 'O=C(OC1CC2CCC(C1)N2)c1ccccc1', 'C(CCN1CCCCC1)=C(c1cccs1)c1cccs1', 'O=C1CCCCC1c1ccccc1', 'O=C1C2=CC3C(=O)C=CCC3CC2Cc2ccccc21', 'c1ccc(C(c2ccccc2)N2CCNCC2)cc1', 'c1ccc(COc2ccc(Nc3ncnc4ccc(-c5ccco5)cc34)cc2)cc1', 'O=C1CCC(N2C(=O)c3ccccc3C2=O)C(=O)N1', 'O=C1c2ccccc2CC1CC1CCN(Cc2ccccc2)CC1', 'O=C(NC1CCCCCC=CC2CC2(C(=O)NS(=O)(=O)C2CC2)NC(=O)C2CC(Oc3nc4ccccc4c4ccccc34)CN2C1=O)c1cnccn1', 'O=C(Cc1ccccc1)N1CCCC1c1ncc(-c2ccc3c(c2)COc2cc4c(ccc5nc(C6CCCN6)[nH]c54)cc2-3)[nH]1', 'O=C(Nc1ccccc1)C1CCCCN1', 'O=C(c1ccc(OCCN2CCCCC2)cc1)c1c(-c2ccccc2)sc2ccccc12', 'c1ccc(C(c2ccccc2)n2cncn2)cc1', 'O=C(OC1CN(C(c2ccccc2)c2ccccc2)C1)C1=CNC=CC1c1ccccc1', 'O=C1C=CC=CCCCCCCCCC=COC2Oc3ccc4cc(c5c(nc6ccccn65)c4c3C2=O)N1', 'O=c1oc2ccccc2cc1Cc1ccccc1', 'O=C(CCN1CCCCC1)c1ccccc1', 'C=C1c2ccccc2CCc2ccccc21', 'c1ccncc1', 'O=C(Cc1ccccc1)NC1C(=O)N2C=CCSC12', 'c1ccc2c(c1)N=C(N1CCNCC1)c1ccccc1O2', 'O=S(=O)(Nc1nc(-c2ncccn2)ncc1Oc1ccccc1)c1ccccc1', 'O=C(Nc1ccccc1)c1c[nH]c(-c2ccccc2)c1-c1ccccc1', 'O=C(NCCc1ccccc1)c1cnccn1', 'O=C1CN=C(c2ccccc2)c2ccccc2N1', 'c1ccc2c3c([nH]c2c1)C1CC2CCCCC2CN1CC3', 'c1ccc2c(c1)CCc1ccccc1N2', 'O=C1C=C(C2CCC3C2CCC2C4CCC(OC5CCC(OC6CCC(OC7CCCCO7)CO6)CO5)CC4CCC23)CO1', 'O=c1cc[nH]c(=O)[nH]1', 'O=S1(=O)NCCc2ccsc21', 'O=C(Nc1ccc2[nH]cc(Cc3ccc(C(=O)NS(=O)(=O)c4ccccc4)cc3)c2c1)OC1CCCC1', 'O=C(Cc1cscn1)Nc1ccc(CCNCCc2ccccc2)cc1', 'c1ccc(Oc2ccccc2)cc1', 'c1ccc(-c2ccccc2-c2nn[nH]n2)cc1', 'O=S1(=O)Nc2ccccc2Cc2ccccc21', 'C(=C1c2ccccc2-c2ccccc21)c1ccccc1', 'O=[PH]1NCCCO1', 'O=C(CNC(=O)NCc1cscn1)NC(CCC(Cc1ccccc1)NC(=O)OCc1cncs1)Cc1ccccc1', 'O=C(CCCN1CCC(c2ccccc2)CC1)c1ccccc1', 'c1ccc(C[N+]2(CCOCCC3CCC4CC3C4)CCOCC2)cc1', 'O=C(NC1OC2C3CCCN3C(=O)CN2C1=O)C1C=C2c3cccc4[nH]cc(c34)CC2NC1', 'c1ccc(OCCNCCCOc2cccc3[nH]c4ccccc4c23)cc1', 'O=c1ncccn1C1CCCO1', 'c1cc2c(c3c1CCC3)CCO2', 'O=C1NC(=O)C(Cc2ccc(OCCc3ccccn3)cc2)S1', 'c1ccc(CCNCCc2ccccc2)cc1', 'O=C1CC2(CCCC2)CC(=O)N1CCCCN1CCN(c2ncccn2)CC1', 'O=C1C(CCS(=O)c2ccccc2)C(=O)N(c2ccccc2)N1c1ccccc1', 'O=C1CCCC(OC2CCC(OC3CCCCO3)CO2)CCCC(OC2CCCCO2)C=CC=CCCO1', 'O=C1NCCN1CCN1CCC(c2cn(-c3ccccc3)c3ccccc23)CC1', 'O=C(c1ccccc1)n1ccc2ccccc21', 'O=C(Nc1cccc(-c2ccccc2)n1)C1(c2ccc3c(c2)OCO3)CC1', 'C1=CC23CCNCc4cccc(c42)OC3CC1', 'C1=C2CCC3C4CCCC4CCC3C2CCC1', 'O=C(NC1CCc2ccccc21)C(CCCN1CCN(Cc2cccnc2)CC1)Cc1ccccc1', 'O=C1CCCC(CCC2CC=CC3=CCCCC32)O1', 'O=C1CC(Cc2cnc[nH]2)CO1', 'O=C(NC(CCN1CCC2CCCCC2C1)CSc1ccccc1)c1ccccc1', 'c1ccc2c(c1)Sc1ccccc1N2CCCN1CCNCC1', 'c1c[nH]cn1', 'c1ccc2c(c1)ccc1ccccc12', 'O=C1CN(N=Cc2ccc(-c3ccccc3)o2)C(=O)N1', 'c1ccc2[nH]ccc2c1', 'c1ccc(C2=NCc3nncn3-c3ccccc32)cc1', 'O=c1[nH]c2ccccc2o1', 'O=C1COC(=O)N1', 'O=C(NCCCNc1ncc2ccccc2n1)C1CCCO1', 'C1=Cc2ccccc2Cc2ccccc21', 'O=C1CC(=O)N(c2ccccc2)c2ccccc2N1', 'c1ccc(COC(Cn2ccnc2)c2ccccc2)cc1', 'O=S(=O)(Nc1ncccn1)c1ccccc1', 'c1ccc2c(CC3CCCCN3)ccnc2c1', 'O=C(Nc1ccccn1)C1=Cc2sccc2S(=O)(=O)N1', 'c1ccc(-c2cn3ccccc3n2)cc1', 'O=C1C=CC2(CC1)Oc1ccccc1C2=O', 'C=C(C(=C)c1ccccc1)c1ccccc1', 'O=C(CC(NC(=O)c1ccccc1)c1ccccc1)OC1C=C2CC(=O)C3CCC4OCC4C3C(OC(=O)c3ccccc3)C(C2)C1', 'C1CCC(C(CC2CCCCN2)C2CCCCC2)CC1', 'O=C(OC1CC2CC3CC(C1)N2CC3=O)c1c[nH]c2ccccc12', 'O=C1NC(=O)C(C2=CCCCC2)C(=O)N1', 'c1ccc2c(c1)CCC1C2CCC2CCCC21', 'c1ccc2c(c1)ncc1nc[nH]c12', 'O=C(C=Cc1ccccc1)Nc1ccccc1', 'O=C(Nc1ccc(Oc2ccnc3ccccc23)cc1)NC1CC1', 'C(#Cc1ccccn1)c1ccc2c(c1)CCCS2', 'O=C(OCOC(=O)c1cccc2ncn(Cc3ccc(-c4ccccc4-c4nnn[nH]4)cc3)c12)OC1CCCCC1', 'C1=CC2CC(c3ccc4c(c3)C35CCN6CC=CC(CCC3N4)C65)c3[nH]c4ccccc4c3CN(C1)C2', 'c1ccc(-c2c[nH]c3ccccc23)cc1', 'C1=C2c3cccc4[nH]cc(c34)CC2NCC1', 'c1ccc(OC(c2ccccc2)C2CNCCO2)cc1', 'O=S(=O)(Cc1ccc2[nH]ccc2c1)N1CCCC1', 'O=C(Nc1ccccc1)c1ccccc1', 'O=S(=O)(c1ccccc1)c1ccccc1', 'O=C(CNCCCc1ccccc1)N1CCCC1', 'O=C1Cc2cc(CCN3CCN(c4nsc5ccccc45)CC3)ccc2N1', 'c1cncc(C2CCCN2)c1', 'O=C1OCC2Cc3cc4c(cc3C(c3ccccc3)C12)OCO4', 'O=C(OCc1cccc(Oc2ccccc2)c1)C1CC1', 'c1ccc(-c2ncnc(Nc3ccncc3)n2)nc1', 'c1ccc(C2OCc3ccccc32)cc1', 'c1ccc(CCc2ccccc2)cc1.c1ccc2ccccc2c1', 'O=C(NC1CCCCC1)NS(=O)(=O)c1ccc(CCNC(=O)c2cnccn2)cc1', 'O=C1CNC(=O)N1c1ccccc1', 'C(=C(c1ccccc1)c1ccccc1)c1ccccc1', 'O=C1CC=CCCCCC2CCCC(O2)C(=O)C(=O)N2CCCCC2C(=O)OC(C=CC2CCCCC2)CCC1', 'c1ccc(Cc2cncnc2)cc1', 'O=C1CN=C(c2ccccc2)c2ccccc2N1CC1CC1', 'c1ccc(C(CCn2ccnc2)c2ccccc2)cc1', 'N=C1CCCCOC(=O)CC(OC2CCCCO2)CC(OC2CCCCO2)CCC1', 'O=c1cc[nH]c2ccc(Cc3ccccc3)cc12', 'O=c1nc(-c2cccc(S(=O)(=O)NCCC3CCCN3)c2)[nH]c2cn[nH]c12', 'c1ccc(CCN2CCC(Nc3nc4ccccc4n3Cc3ccccc3)CC2)cc1', 'O=C(NC(CCNS(=O)(=O)c1ccccc1)Cc1ccccc1)OC1CCOC1', 'C1=CC2=CCCCC2CC1', 'O=C(CCS(=O)(=O)c1ccccc1)Nc1ccccc1', 'C1=NCC2c3ccccc3Cc3ccccc3N12', 'c1ccc(CNCCOc2ccccc2)cc1', 'c1ccc(COc2ccc(Nc3ccnc4ccccc34)cc2)nc1', 'O=C1CN2C(=O)C=COC2(c2ccccc2)c2ccccc2N1', 'c1ccc(NC2=NCCN2)cc1', 'C1OC2(CS1)CN1CCC2CC1', 'c1ccc(CCCCOCCCCCCNCCc2ccccc2)cc1', 'c1cc2c3c(c[nH]c3c1)CC1NCCCC21', 'O=C(NCc1ccccc1)C1CCN1C(=O)CC1CCCCC1', 'c1ccc(-c2cccnc2-c2cccnc2)cc1', 'c1ccc(Nc2ccnc3ccccc23)cc1', 'C=C1c2ccccc2CSc2ccccc21', 'c1ccc(Nc2ncnc3cc4c(cc23)OCCOCCOCCO4)cc1', 'O=c1[nH]c2ccccc2n1CCCN1CCC(n2c(=O)[nH]c3ccccc32)CC1', 'S=C1CN=C(c2ccccc2)c2ccccc2N1', 'O=C1C=CC2C(CCC3C4CCCC4CCC23)N1', 'C(=Cc1ccc2ccccc2n1)c1cccc(C(CCc2ccccc2)SCC2CC2)c1', 'C=C1CC2CCCC2C2CCC3=CC(=O)CCC3C12', 'O=C(CN1CCN(CCCOc2ccccc2)CC1)Nc1ccccc1', 'O=C1CCC(c2ccccc2)C(=O)N1', 'O=C1NCCc2c(-c3ccccc3)[nH]c3cccc1c23', 'O=C(NC1CC2CCCC(C1)N2)c1n[nH]c2ccccc12', 'c1ccc(N2CCN(CCC3CCCCC3)CC2)cc1', 'c1ccc(-c2ccccc2)cc1', 'O=C(NS(=O)(=O)c1ccc(NCC2CCOCC2)cc1)c1ccc(N2CCN(CC3=C(c4ccccc4)CCCC3)CC2)cc1Oc1cnc2[nH]ccc2c1', 'O=c1[nH]c(=O)c2[nH]cnc2[nH]1.O=c1[nH]c(=O)c2[nH]cnc2[nH]1', 'S=P(N1CC1)(N1CC1)N1CC1', 'C1=Nc2ccccc2C(c2ccccc2)=[NH+]C1', 'c1ccc(COc2ccccc2)cc1', 'c1ccc(CCNCCCCCCOCCOCc2ccccc2)cc1', 'c1ccc2ccccc2c1', 'O=C(OC1c2nccnc2C(=O)N1c1ccccn1)N1CCNCC1', 'O=C(Nc1ccccn1)C1=Cc2ccccc2S(=O)(=O)N1', 'O=C1CCN2CCc3ccccc3C2C1', 'O=c1cccc2c(c1)CCCc1ccccc1-2', 'c1ccc(Nc2ccnc(Nc3ccc(N4CCC(N5CCNCC5)CC4)cc3)n2)cc1', 'C(=Cc1ccccc1)CN1CCN(C(c2ccccc2)c2ccccc2)CC1', 'O=C1CCC=CCC(=O)CC(CCC2CCCCC2)OC(=O)C2CCCCN2C(=O)C(=O)C2CCCC(CCC=CC=CC=CCCC1)O2', 'O=C1CCCN1', 'O=c1[nH]c(=O)c2[nH]cnc2[nH]1', 'c1ccc(C2CCC2)cc1', 'c1ccc(C2CCCc3ccccc32)cc1', 'O=c1[nH]c2ccccc2n1C1CCN(CCCC(c2ccccc2)c2ccccc2)CC1', 'O=C1Nc2ccccc2C(C#CC2CC2)O1', 'c1ccc2ncccc2c1', 'c1ccc(CNC2CCCCC2)cc1', 'O=c1[nH]nnn1CCN1CCC(Nc2ccccc2)CC1', 'O=C(NC1CC2OC(C1)n1c3ccccc3c3c4c(c5c6ccccc6n2c5c31)CNC4=O)c1ccccc1', 'O=C(Cc1ccccc1)NCc1ccccc1N1CCCCC1', 'C(C=C1CCCC2CCCC12)=C1CCCCC1', 'c1ccc(Cc2cccc(C3CCCCO3)c2)cc1', 'c1ccc2c(-n3cnnc3)ccc(C3CC3)c2c1', 'O=C1c2c([nH]c3ccccc23)CCN1Cc1c[nH]cn1', 'O=C(COc1ccccc1)NC(CCC(Cc1ccccc1)NC(=O)CN1CCCNC1=O)Cc1ccccc1', 'c1ccc(CON=C(Cn2ccnc2)c2ccccc2)cc1', 'O=C1C=CC2C(CCC3C2CCC2C(C(=O)Nc4ccccc4)CCC23)N1', 'O=C1CC(OC2CCCCO2)CC(OC2CCCCO2)CCC2(CO2)C(=O)CCCCO1', 'c1ccc(Nc2nccc(Nc3ccc4c[nH]nc4c3)n2)cc1', 'c1ccc2c(c1)CC1NCCC23CCCCC13', 'c1ccc2nc3ccccc3cc2c1', 'C1CC1', 'O=C(OCCNCCC(c1ccccc1)c1ccccc1)C1=CNC=CC1c1ccccc1', 'O=C(CNCCCc1ccccc1)N1CCC2CCCCC21', 'O=C1NCC(=O)N2CC(CC2C(=O)NC2(C(=O)NS(=O)(=O)C3CC3)CC2)Oc2nc3ccccc3nc2CCCCCC2CC2O1', 'N=c1cc2n(-c3ccccc3)c3ccccc3nc-2cc1Nc1ccccc1', 'O=C(NN1CCCCC1)c1cc(-c2ccccc2)n(-c2ccccc2)n1', 'O=C(Nc1ccc(C2CCC(c3ccc(NC(=O)C4CCCN4)cc3)N2c2ccccc2)cc1)C1CCCN1', 'O=c1c(CCN2CCC(c3noc4ccccc34)CC2)cnc2n1CCCC2', 'c1ccc(-c2nccnc2-c2ccccc2)cc1', 'c1ncc2nc[nH]c2n1', 'c1ccc2c3c([nH]c2c1)COCC3', 'O=C1CC(c2ccccc2)Sc2ccccc2N1', 'O=C1C=C2CCC3C4CCC5(CCC(=O)O5)C4CC4OC43C2CC1', 'O=C(c1ccccc1)c1coc2ccccc12', 'c1ccc(C2CCNCC2)cc1', 'O=C1c2cccc3c2C(CCC3)CN1C1CN2CCC1CC2', 'c1ccc(CC2=NCCN2)cc1', 'c1ccc(CCc2ccccc2)cc1', 'c1csc(CCNC2CCc3ccccc3C2)c1', 'C1=CC(c2cccc3nonc23)C=CN1', 'O=C(NC1CCCCC1)NS(=O)(=O)c1ccc(CCNC(=O)N2CC=CC2=O)cc1', 'O=C(NN1CC2CCCC2C1)NS(=O)(=O)c1ccccc1', 'O=C(CNS(=O)(=O)c1cccc2c1NCCC2)N1CCCCC1', 'O=C(Cc1ccccc1)Nc1cnc(N2CCNCC2)cc1-c1ccccc1', 'C=C1c2ccccc2COc2ccccc21', 'O=c1[nH]ncn1-c1ccc(N2CCN(c3ccc(OCC4COC(Cn5cncn5)(c5ccccc5)C4)cc3)CC2)cc1', 'c1ccc(C2=NCc3nncn3-c3sccc32)cc1', 'O=C(CCCc1ccccc1)N1CCn2cnnc2C1', 'c1ccc(CCCCNCCc2ccccc2)cc1', 'O=C(Cc1ccc2c(c1)OCO2)c1sccc1S(=O)(=O)Nc1ccno1', 'O=C(NCC1CCCCO1)C1CCCN1', 'c1ccc2sccc2c1', 'O=S(=O)(Nc1ncco1)c1ccccc1', 'c1ccc(Cn2nc(-c3ncccn3)c3cccnc32)cc1', 'c1cc2c3c(c1)OC1C4CCC5(CC4)C(C2)N(CC2CC2)CCC315', 'c1cscn1', 'C1=CC2C3Cc4cccc5c4C2(CCN3)C(C1)O5', 'c1ccc2c(c1)Oc1ccccc1C1CNCC21', 'O=C(c1ccccc1)c1c[nH]c2ncc(-c3ccccc3)cc12', 'c1ccc(C2(Cn3ccnc3)OCC(COc3ccc(N4CCNCC4)cc3)O2)cc1', 'O=c1oc2ccccc2cc1Cc1cc2ccccc2oc1=O', 'c1ccc(OCCCCCOc2ccccc2)cc1', 'O=C(CNC(=O)c1ccc2ccccc2n1)NC(CCN1CCC2CCCCC2C1)Cc1ccccc1', 'O=C(Nc1nccs1)C1=Cc2ccccc2S(=O)(=O)N1', 'C1=CC2CCC3Nc4ccc(C5CC6CCCN(CCc7c5[nH]c5ccccc75)C6)cc4C34CCN(C1)C24', 'O=C(NCc1ncccn1)c1cnc(N2CCCC2)nc1NCc1ccccc1', 'O=c1ccc(-c2ccncc2)c[nH]1', 'O=C(c1cc2ccccc2[nH]1)N1CCN(c2ccccn2)CC1', 'c1ccc(CCNCCOc2ccccc2)cc1', 'c1ccc(NC2CCN(CCc3cccs3)CC2)cc1', 'O=C(CSC1CC2CCC(C1)N2)OC1CCCCC23CCCC1C2C(=O)CC3', 'O=C1NC(=O)C(Cc2ccc(OCCNc3ccccn3)cc2)S1', 'O=C(NC1CCN(CCCCC2c3ccccc3-c3ccccc32)CC1)c1ccccc1-c1ccccc1', 'C1CC2OCCC2O1', 'O=S(=O)(Nc1ccon1)c1ccccc1', 'O=C(NC1CCCCC1)NS(=O)(=O)c1ccc(CCNC(=O)c2ccccc2)cc1', 'O=C1CC(=O)OCC2OC(=O)N(CCCCn3cnc(-c4cccnc4)c3)C2CC(=O)CCCC(OC2CCCCO2)C1', 'O=c1c2ccccc2c(Cc2ccccc2)nn1C1CCCNCC1', 'O=C(NC1OC2C3CCCN3C(=O)C(Cc3ccccc3)N2C1=O)C1CNC2Cc3c[nH]c4cccc(c34)C2C1', 'O=C(Nc1ccc(C(=O)N2CCc3[nH]cnc3-c3ccccc32)cc1)c1ccccc1-c1ccccc1', 'c1cnccn1', 'O=C(NCCc1ccccc1)C1CCCCC1', 'O=C1N(Cc2ccc(-c3ccccc3-c3nn[nH]n3)cc2)C=NC12CCCC2', 'c1ccc2oncc2c1', 'c1ccc(-c2ccnn2-c2ccccc2)cc1', 'c1ccc2c(c1)CCN1CCCCC21', 'C1CC2CCOC3OC4CCC(C1)C23OO4', 'c1ccc2c(c1)Cc1cccnc1N1CCNCC21', 'c1ccc(CCCNCc2cccc3ccccc23)cc1', 'O=C1OCC2C(OC3CCC4OC(c5cccs5)OCC4O3)c3cc4c(cc3C(c3ccccc3)C12)OCO4', 'O=C(CNCCCc1ccccc1)N1CCC2(C1)SCCS2', 'O=C1C(NCCCc2ccccc2)CCCN2CCCCN12', 'c1ccc(C2Oc3cc(-c4cnc(C5CCCN5)[nH]4)ccc3-c3cc4cc(-c5cnc(C6CCCN6)[nH]5)ccc4n32)cc1', 'O=C1CC(c2ccccc2)C(=O)N1', 'O=C1C=CC(=O)C(Cc2ccccc2)=C1', 'O=c1cc(N2CCCCC2)n(Cc2ccccc2)c(=O)[nH]1', 'c1ccc(Nc2ccncc2)cc1', 'O=S(=O)(CCc1ccc2[nH]cc(CC3CCCN3)c2c1)c1ccccc1', 'O=C1Cc2ccccc2N1', 'O=C(NCC1CN(c2ccc(N3CCOCC3=O)cc2)C(=O)O1)c1cccs1', 'O=C(NC1OC2C3CCCN3C(=O)C(Cc3ccccc3)N2C1=O)C1C=C2c3cccc4[nH]cc(c34)CC2NC1', 'c1ccc(CCCCNCc2ccc(-c3ccccn3)cc2)cc1', 'c1ccc(-c2nn[nH]n2)c(-c2ccc(Cn3ccnc3)cc2)c1', 'O=C(NC(CCNS(=O)(=O)c1ccccc1)Cc1ccccc1)OC1COC2OCCC12', 'O=C1CCC(=O)N1', 'c1nc(-c2cnn(C3CNC3)c2)c2cc[nH]c2n1', 'C(=Cc1ccccc1)c1ccccc1', 'O=S(=O)(Nc1ccno1)c1ccccc1', 'C1CCOCC1', 'c1ccc2c(c1)CCNCC2', 'O=C(c1ccccc1)c1ccc2nc[nH]c2c1', 'c1ccc(-c2ccncn2)cc1', 'O=C(Nc1ccccc1)c1cnoc1', 'c1ccc(C2=NCc3cncn3-c3ccccc32)cc1', 'O=C1OC2CC(CC=CC(OC3CCC(OC4CCCCO4)CO3)CC=CC=C3COC4CC=CC1C34)OC1(CCCCO1)C2.O=C1OC2CC(CC=CC(OC3CCC(OC4CCCCO4)CO3)CC=CC=C3COC4CC=CC1C34)OC1(CCCCO1)C2', 'C=C(c1ccccc1)c1ccc2c(c1)CCCC2', 'C=C1CC2CCCC2O1', 'O=C1C2CCCCC2C(=O)N1CCCCN1CCN(c2nsc3ccccc23)CC1', 'c1ccc2[nH]cnc2c1', 'c1ccc(CN2CCc3sccc3C2)cc1', 'c1ccc(-c2cc(C3CC3)nc3ccccc23)cc1', 'c1ccoc1', 'c1ccc(Nc2ncnc3ccccc23)cc1', 'O=C1C(=NNc2cccc(-c3ccccc3)c2)C=NN1c1ccccc1', 'O=C1CCc2cc(OCCCCc3nnnn3C3CCCCC3)ccc2N1', 'O=C(OCC=Cc1ccccc1)C1=CNC=CC1c1ccccc1', 'O=C(CNCCCc1ccccc1)N1CCC2CCCC21', 'O=C(OCCN(Cc1ccccc1)c1ccccc1)C1=CNC=C(P2(=O)OCCCO2)C1c1ccccc1', 'O=c1[nH]c(-c2cccc(S(=O)(=O)N3CCNCC3)c2)nc2cn[nH]c12', 'O=C(NCCc1ccccc1)c1ccccc1', 'O=C(CCC=CCc1ccc2c(c1)C(=O)OC2)OCCN1CCOCC1', 'O=C(OC1CCCN(Cc2ccccc2)C1)C1=CNC=CC1c1ccccc1', 'O=C(OCCN1CCN(C(c2ccccc2)c2ccccc2)CC1)C1=CNC=CC1c1ccccc1', 'O=C(CNC12CC3CC(CC(C3)C1)C2)N1CCCC1', 'O=C1NCCCCC=CC2CC2(C(=O)NS(=O)(=O)C2CC2)NC(=O)C2CC(Oc3cc(-c4nccs4)nc4ccccc34)CC12', 'O=C1CCCCN1c1ccc(N2CCc3cnn(-c4ccccc4)c3C2=O)cc1', 'O=C(NC1CCN(CCCOc2ccccc2)CC1)c1ccccc1', 'O=C(C1CC1)C(c1ccccc1)N1CCc2sccc2C1', 'c1ccc(OCCNCCc2ccc3c(c2)CCN3)cc1', 'c1ccc(Sc2ccccc2N2CCNCC2)cc1', 'O=C(Nc1cccc(Nc2nccc(-c3cccnc3)n2)c1)c1ccc(CN2CCNCC2)cc1', 'O=C1COc2c(CCNCCc3ccccc3)cccc2N1', 'O=C1Nc2ccccc2CCC1NCCCc1ccccc1', 'O=c1ccc2c(CCNC3Cc4ccccc4C3)cccc2[nH]1', 'O=C1CC(OC2CCCCO2)CC(OC2CCCCO2)CCCCNCCCCO1', 'c1nsnc1N1CCOCC1', 'O=c1n(CCOc2ccccc2)cnn1CCCN1CCN(c2ccccc2)CC1', 'O=C(CNCCCc1ccccc1)N1CCc2ccccc2C1', 'C1CCCCC1', 'c1ccc2c(c1)Sc1ccccc1N2CCC1CCCCN1', 'O=C1OC(CCc2ccccc2)CC=C1Cc1cccc(NS(=O)(=O)c2ccccn2)c1', 'O=C(C[PH](=O)CCCCc1ccccc1)N1CCC(C2CCCCC2)C1', 'c1ccc(C(Cc2ccncn2)Cn2cncn2)cc1', 'c1ccc(Nc2nccc(Oc3ccccc3)n2)cc1', 'c1ccc(Oc2ccccc2)cc1.c1ccc(Oc2ccccc2)cc1', 'O=c1ccn(-c2cccc(-c3ccc4ccccc4c3)c2)c(=O)[nH]1', 'O=C(CC12CC3CC(CC(C3)C1)C2)N1CCC2CC21', 'O=C(CNC(=O)CNC(=O)C1CCCN1C(=O)CNC(=O)CNC(=O)CNC(=O)C(Cc1ccccc1)NC(=O)CNC(=O)CNC(=O)CNC(=O)CNC(=O)CNC(=O)CNC(=O)CNC(=O)C1CCCN1C(=O)CNC(=O)C1CCCN1C(=O)CCc1ccccc1)NCCc1ccccc1', 'O=C(Nc1ccccc1)Nc1ccc(Oc2ccncc2)cc1', 'O=C1C=C2CCC3C(=C2CC1)CCC1CCCC13', 'C1CCNC1', 'O=C1OCC2c3c(ccc4c3OCO4)C(SCC13NCCc1ccccc13)C1C3NC(Cc4ccccc43)CN21', 'c1ccc(-c2ccc(Cc3cccc(C4CCCCO4)c3)s2)cc1', 'O=C(CCc1ccccc1)NC(Cc1cnc[nH]1)C(=O)NC(CCC1CC1)CC1CCCCC1', 'c1ccc(-c2cncnn2)cc1', 'O=C(Nc1ccc(CN2CCNCC2)cc1)c1cccc(C#Cc2cnc3cccnn23)c1', 'O=C(Nc1ccccn1)c1ccc2[nH]c(CNc3ccccc3)nc2c1', 'O=C(C1COc2ccccc2O1)N1CCN(c2ncc3ccccc3n2)CC1', 'c1ccc2c(c1)N=C(N1CCNCC1)c1ccccc1N2', 'c1ccc2c(c1)CCC1CCCCC21', 'O=S(=O)(Nc1cccc(-c2ncsc2-c2ccncn2)c1)c1ccccc1', 'O=C1C=CC(=O)C=C1', 'O=C(Oc1ccc2ccccc2c1)c1ccccc1', 'O=C(Nc1ccccc1)C1(C(=O)Nc2ccc(Oc3ccnc4ccccc34)cc2)CC1', 'c1ccc2c(c1)CC1CCCC1C2', 'O=C(NC1(C(=O)NS(=O)(=O)C2CC2)CC1)C1CC(Oc2nccc3ccccc23)CN1', 'C1CCC2NCCC2C1', 'O=c1[nH]c2nc(N3CCCCC3)[nH]c2c(=O)n1Cc1ncc2ccccc2n1', 'O=C1C=C2CCC3C(CCC4C3CCC43CCC(=O)O3)C2CC1', 'c1ccc(CCNCCCCCCNCCc2ccccc2)cc1', 'c1ccc2c(CC3=NCCN3)cccc2c1', 'O=C(C1CCCO1)N1CCN(c2ncc3ccccc3n2)CC1', 'c1ccc(CCCNCCc2ccccc2)cc1', 'c1cnc2cc(NC3=NCCN3)ccc2n1', 'O=C(c1ccco1)N1CCN(c2ncc3ccccc3n2)CC1', 'O=c1ccc2ccccc2[nH]1', 'c1ccc(Cc2c[nH]cn2)cc1', 'c1cc(NC2=NCCN2)c2nsnc2c1', 'c1ccc2c(c1)CCC(CCNCCC1CCc3ccccc3O1)O2', 'c1ccc(OCC2=NCCN2)cc1', 'C1CCC(OC2CCCOC2)OC1', 'c1nc(N2CCCCC2)c2ncnc(N3CCCCC3)c2n1', 'c1cnc2ncnn2c1', 'O=C1OCc2ccccc21', 'N=C(C(=O)NC1C(=O)N2C=CCSC12)c1cscn1', 'c1ccc(Nc2ccccn2)cc1', 'O=C1c2ccccc2C(=O)N1Cc1ccccc1', 'O=C(Nc1ccccn1)C(=O)NC1CCCCC1NC(=O)c1nc2c(s1)CNCC2', 'O=c1ccccn1-c1ccccc1', 'O=C(NC1C(=O)N2CCSC12)C(NC(=O)N1CCNC1=O)c1ccccc1', 'N=C(C(=O)NC1C(=O)N2C=CCSC12)c1ccco1', 'O=C1OCC2C(OC3CCC4OCOCC4O3)c3cc4c(cc3C(c3ccccc3)C12)OCO4', 'c1ncc2ncn(C3CCCO3)c2n1', 'O=C1OCC2C1CC1CCCCC1C2C=Cc1ccc(-c2ccccc2)cn1', 'c1ccn2nccc2c1', 'O=C(Oc1ccccc1)c1ccccc1', 'O=c1ccn(C2CC2)c2cc(N3CCNCC3)ccc12', 'C1CCC(OC2CCC(OC3CCC(OC4CCC(OC5CCCOC5)OC4)OC3)OC2)OC1', 'N=C(c1ccccc1)c1cccnc1', 'C=C1CC2C(CCC3C4CCCC4CCC23)CC1=O', 'O=C(Cc1ccccc1)NC1C(=O)N2C=C(CSc3nnn[nH]3)CSC12', 'O=C(Nc1ccccc1)c1cnc(Nc2cc(N3CCNCC3)ncn2)s1', 'c1ccc(OCCCCC2CCNCC2)cc1', 'c1cnc(-n2cccn2)nc1', 'c1ccc(N=Nc2ccccc2)cc1', 'O=C(NC1CCCCC1)NS(=O)(=O)c1ccc(CCN2C(=O)Cc3ccccc3C2=O)cc1', 'c1ccc(CCN2CCC(Cc3ccccc3)CC2)cc1', 'O=c1cc[nH]c2cc(-c3ccncc3)ccc12', 'N=C(C(=O)NC1C(=O)N2C=C(C=C3CCN(C4CCNC4)C3=O)CSC12)c1ncsn1', 'O=S(=O)(Nc1ccccn1)c1ccc(N=Nc2ccccc2)cc1', 'c1ccc(CCCCc2ccccc2)cc1', 'O=c1oc2c(c(=O)n1-c1ccccn1)NS(=O)(=O)c1ccccc1-2', 'O=C1CN2Cc3ccccc3N=C2N1', 'c1cc(-c2ccc3ccccc3c2)cc(C23CC4CC(CC(C4)C2)C3)c1', 'c1ccc(Cn2ncc3ccccc32)cc1', 'C1CC2OCC1OC1CCC(CO1)OC1CCC(CO1)OC1CCC(CO1)OC1CCC(CO1)OC1CCC(CO1)OC1CCC(CO1)OC1CCC(CO1)O2', 'O=C(NN1CCCCCC1)NS(=O)(=O)c1ccc(CCNC(=O)c2ccon2)cc1', 'c1ccc(C2CC2Nc2ncnc3c2nnn3C2CCCC2)cc1', 'O=C(COc1ccccc1)NC1C(=O)N2CCSC12', 'O=C1CC2SCC(CSc3nnn[nH]3)=CN12', 'O=C(CNC(=O)C1CCCN1C(=O)C1CCCN1)NC(Cc1cccs1)C(=O)NCC(=O)N1Cc2ccccc2CC1C(=O)N1CCC2CCCCC21', 'O=C(c1ccccc1)c1ccc2n1CCC2', 'c1ccccc1.c1ccccc1.c1ccccc1', 'O=C1CC2N1CCS2(=O)=O', 'c1ccccc1.c1ccccc1', 'O=C(NC1C(=O)N2CCSC12)C1CCCCC1', 'O=C1CCCC1Cc1ccccc1', 'O=C(NC1C(=O)N2CCSC12)c1conc1-c1ccccc1', 'O=C1CC2SCC=CN12', 'c1[nH]nc2c1CC1C(CCC3C4CCCC4CCC13)C2', 'O=c1cc[nH]c2cc(N3CCNCC3)ccc12', 'O=C(CSc1ccncc1)NC1C(=O)N2C=CCSC12', 'C=C1CC2CCCC2C1', 'O=C1NC(=O)C(c2ccccc2)N1', 'C1=Cc2ccccc2C1=Cc1ccccc1', 'O=C1CCCC1', 'C1=C2CCC3C4CCCC4CCC3C2Cc2cnoc21', 'C(=Cc1ccccc1)CNCc1cccc2ccccc12', 'c1csc(COc2cccc3ccccc23)c1', 'O=c1cn[nH]c2cc3c(cc12)OCO3', 'O=C1NCCN(C(=O)NC(C(=O)NC2C(=O)N3CCSC23)c2ccccc2)C1=O', 'O=C(c1ccccc1)c1ccc[nH]1', 'c1ccc(Nc2ncnc3ccc(OCCCN4CCOCC4)cc23)cc1', 'O=C1CCC2=C(CCC3C2CCC2CCCC23)C1', 'O=C(Cc1cscn1)NC1C(=O)N2C=C(CSc3nnn[nH]3)CSC12', 'O=C1CC2N1CC(Cn1ccnn1)S2(=O)=O', 'c1ccc2c(c1)CCCO2', 'N=C(C(=O)NC1C(=O)N2C=C(C[n+]3ccccc3)CSC12)c1cscn1', 'c1ncc2cn[nH]c2n1', 'N=C(C(=O)NC1C(=O)N2C=C(CSc3nnn[nH]3)CSC12)c1cscn1', 'O=C1CC2CCC3C4CCCC4CCC3C2CO1', 'O=c1cc[nH]c2nc(N3CCNCC3)ccc12', 'O=C1C(N=CN2CCCCCC2)C2SCCN12', 'O=C(Cc1ccsc1)NC1C(=O)N2CCSC12', 'O=C(NC1C(=O)N2CCSC12)c1ccccc1', 'O=C1NCCN(C(=O)NC(C(=O)NC2C(=O)N3C=C(CSc4nnn[nH]4)CSC23)c2ccccc2)C1=O', 'O=C(Cn1cnnn1)NC1C(=O)N2C=C(CSc3nncs3)CSC12', 'O=c1ccn(-c2ccccc2)c2nc(N3CC4CC4C3)ccc12', 'N=C1CCN(c2ccc3c(=O)ccn(C4CC4)c3n2)C1', 'O=C1CCO1', 'O=C(CC1=CCC=CC1)NC1C(=O)N2C=CCSC12', 'C=C1SC(C(=O)NC2C(=O)N3C=C(CSc4nnn[nH]4)CSC23)S1', 'O=C(Cc1cccs1)NC1C(=O)N2C=CCSC12', 'N=C(C(=O)NC1C(=O)N2C=C(CSc3nc(=O)c(=O)[nH][nH]3)CSC12)c1cscn1', 'O=C(Cc1ccccc1)NC1C(=O)N2CCSC12.c1ccccc1', 'O=C(Cc1ccccc1)NC1C(=O)N2CCSC12.O=C(Cc1ccccc1)NC1C(=O)N2CCSC12.c1ccc(CNCCNCc2ccccc2)cc1', 'O=C(NN1CCCCCC1)NS(=O)(=O)c1ccccc1', 'O=C(Cc1cccs1)NC1C(=O)N2C=C(C[n+]3ccccc3)CSC12', 'O=C(COc1ccccc1)OCCOC(=O)c1cccnc1', 'c1ccc(C2CCNCC2COc2ccc3c(c2)OCO3)cc1', 'O=c1cc[nH]c2ncccc12', 'O=c1ccn2c3c(c(N4CCNCC4)ccc13)OCC2', 'C=C1NC(=O)C2CSSCCC=CC(CC(=O)NCC(=O)N2)OC(=O)CNC1=O', 'c1ccc(NCc2ccco2)cc1', 'c1ccc(C2CCC(N3CCC(c4ccccc4)CC3)CC2)cc1', 'C1CCNCC1', 'O=C(CNCC(=O)NCCc1ccccc1)NCCc1ccccc1', 'c1ccc(C2CC3CCC2C3)cc1', 'c1ccc(Cn2ccnc2)cc1', 'O=C(CCCc1ccccc1)N1CC2CCCCC2C1', 'c1cc2c3c(c1)OC1CCCC4C(C2)N(CC2CCC2)CCC314', 'O=C(CCCN1CCC(N2CCCCC2)CC1)c1ccccc1', 'c1ccsc1', 'c1ccc2c(c1)CC1CC2CCN1', 'O=C(OC1CCC2CC3c4[nH]c5ccccc5c4CCN3CC2C1)c1ccccc1', 'O=C1CCS(=O)(=O)C(c2ccccc2)N1', 'O=c1[nH]c2ccccc2n1CCN1CCN(c2ccccc2)CC1', 'C(CCN1CCNCC1)=C1c2ccccc2Sc2ccccc21', 'O=C1CCc2ccc(OCCCCN3CCN(c4ccccc4)CC3)cc2N1', 'c1ccc(N2CCN(CCc3nnc4n3CCCC4)CC2)cc1', 'c1ccc(NC2CCNCC2)cc1', 'C1=Cc2ccccc2Sc2ccccc21', 'O=C(OC1C[NH+]2CCC1CC2)C(c1ccccc1)c1ccccc1', 'C1=CC(NC2CCC(OC3CCCOC3)OC2)CCC1', 'C(CN1CCCC1)=C(c1ccccc1)c1ccccn1', 'c1cc(Cc2ccc(OC3CCOC3)cc2)cc(C2CCCCO2)c1', 'O=C1NCN(c2ccccc2)C12CCN(CCCC(c1ccccc1)c1ccccc1)CC2', 'c1ccc2c(c1)N=C(N1CCNCC1)c1ccccc1S2', 'O=c1ccc2ccc(OCCCCN3CCN(c4cccc5sccc45)CC3)cc2[nH]1', 'O=C1NCC(COc2ccccc2)O1', 'c1ccc(CCCCN2CCC(C(c3ccccc3)c3ccccc3)CC2)cc1', 'c1ccc(CCN2CCC(Nc3ccccc3)CC2)cc1', 'c1ccc2c(c1)CC1CCCCCC2C1', 'C=C1c2ccccc2Sc2ccccc21', 'O=c1[nH]c(=O)c2nc[nH]c2[nH]1.c1ccc(Cc2ccccc2)cc1', 'c1ccc2c(c1)C1CCC2c2ccccc21', 'O=C(CCCN1CCCCC1)c1ccccc1', 'c1ccc2c(c1)N=C(N1CCNCC1)c1ccsc1N2', 'c1ccc(OCCCN2CCOCC2)cc1', 'c1ccc(CN2CCN(C(c3ccccc3)c3ccccc3)CC2)cc1', 'c1ccc2c(c1)CC1C3CCCCC23CCN1CC1CCC1', 'O=C1C2C3CCC(C3)C2C(=O)N1CC1CCCCC1CN1CCN(c2nsc3ccccc23)CC1', 'O=C1c2cc[nH]c2CCC1CN1CCOCC1', 'c1cc2c(c(C3CC3)c1)CCO2', 'C1CSSC1', 'O=C1Nc2ccccc2C1=Cc1ccc[nH]1', 'O=C1C=C2CCC3C(=C2CC1)C(c1ccccc1)CC1CCCC13', 'O=C1CNC(=O)CNC(=O)C(Cc2c[nH]c3ccccc23)NC(=O)C(Cc2ccccc2)NC(=O)C(NC(=O)CCc2ccccc2)CSSCCN1', 'O=C1CNC(=O)CNC(=O)C(Cc2c[nH]c3ccccc23)NC(=O)C(Cc2ccccc2)NC(=O)C(NC(=O)CCc2ccc3ccccc3c2)CSSCCN1', 'c1csc(-c2cscn2)c1', 'O=C1CCCc2ccccc21', 'O=C1CNC(=O)C(Cc2c[nH]c3ccccc23)NC(=O)C(c2ccccc2)NC(=O)C2CCCN2C(=O)C(Cc2ccccc2)NC(=O)C(Cc2ccc(OCc3ccccc3)cc2)N1', 'c1ccc(CCNCCCOc2ccccc2)cc1', 'O=C(OCCOc1cccc2[nH]ccc12)c1ccccc1', 'O=C1CCc2ccccc2N1', 'c1ccc(C2CCCC2)cc1', 'c1ccc(CCOCC2CC2)cc1', 'c1ccc2c(c1)CCCC2', 'O=S1(=O)N=CNc2ccccc21', 'O=C1NCC(=O)N2C1Cc1c([nH]c3ccccc13)C2c1ccc2c(c1)OCO2', 'O=C1NC(c2ccccc2)c2ccccc21', 'C(=CC1CCCC1)CCCc1ccccc1', 'O=C(C=Cc1ccccc1)OC1CCC2CC3c4[nH]c5ccccc5c4CCN3CC2C1', 'O=S1(=O)NCNc2ccccc21', 'C1CCCNCCC1', 'O=S1(=O)NC(Cc2ccccc2)Nc2ccccc21', 'C(=CC1CCCC1)CCOc1ccccc1', 'c1ccc(N(CC2=NCCN2)c2ccccc2)cc1', 'c1ncc(NC2=NCCN2)cn1', 'c1ccc(-c2nnn[nH]2)c(-c2ccc(Cn3ccnc3)cc2)c1', 'C(=Cc1cncn1Cc1ccccc1)Cc1cccs1', 'C1CCCC1', 'c1ccc2c(c1)CCNC2', 'c1ccc(C2CNCCc3ccccc32)cc1', 'O=C1c2ccccc2NCN1c1ccccc1', 'c1ccc2cnncc2c1', 'c1ccc(CCCCCC2CCCC2)cc1', 'C1CCC2(CC1)OCCO2', 'c1cc(N2CCCCC2)nc[nH+]1', 'O=C1CNC(=O)C(Cc2ccccc2)NC(=O)C(Cc2ccccc2)NC(=O)CCSSCC(C(=O)N2CCCC2)NC(=O)CN1', 'c1ccc(-c2cncnc2OCCOc2ncccn2)cc1', 'c1ccc(-c2ccc(Cn3cnc4ccc(-c5nc6ccccc6[nH]5)cc43)cc2)cc1', 'O=S1(=O)NC(C2CC3C=CC2C3)Nc2ccccc21', 'c1ccc(C(Cn2cncn2)Cn2cncn2)cc1', 'O=C(Nc1ccccn1)OC[n+]1cnn(CC(Cc2nc(-c3ccccc3)cs2)c2ccccc2)c1', 'O=C1Cc2ccccc2Nc2ccccc21', 'c1ccc(COc2cncc(-c3cnn(C4CCNCC4)c3)c2)cc1', 'c1cn[nH]c1', 'O=c1[nH]ncn1-c1ccc(N2CCN(c3ccc(OCC4COC(Cn5cncn5)(c5ccccc5)O4)cc3)CC2)cc1', 'O=C(c1cccc(Cc2n[nH]c(=O)c3ccccc23)c1)N1CCN(C(=O)C2CC2)CC1', 'c1ccc(C(c2ccccc2)(c2ccccc2)n2ccnc2)cc1', 'C=C1CC2CCCC2C2CCC3=CCCCC3C12', 'O=C1C=C2CCC3C4C=CCC4CCC3C2CC1', 'O=C(CCc1ccccc1)NCC(=O)NCC(=O)NCC(=O)NCC(=O)NC(Cc1ccccc1)C(=O)NCC(=O)NCC(=O)NCC(=O)NCCc1ccccc1', 'O=C(CNC(=O)C1C2CCCC2CN1C(=O)CNC(=O)C(NC(=O)c1cnccn1)C1CCCCC1)C(=O)NC1CC1', 'O=C(NCc1cscn1)NC(CCN1CCOCC1)C(=O)NC(CCC(Cc1ccccc1)NC(=O)OCc1cncs1)Cc1ccccc1', 'O=c1nc[nH]c2c1NC(CNc1ccccc1)CN2', 'c1ccc(CNc2ccccc2)cc1', 'c1ccc(CNCCc2c[nH]c3ccccc23)cc1', 'O=c1c2ccccc2nc(CNc2ncnc3[nH]cnc23)n1-c1ccccc1', 'N=C1C=C2CCC3C4CCCC4CCC3C2CC1', 'O=C1CCC2(CCC(COCc3ccccc3)(c3ccccc3)NC2)N1', 'c1cc2c(cc1CCCN1CCCC1)OCCO2', 'O=c1nc(CN2CCOC(OCc3ccccc3)C2c2ccccc2)[nH][nH]1', 'S=c1[nH]cc[nH]1', 'C1OC2COC3OCOC3C2O1', 'O=C1CN(c2ccccc2)C(=S)N1c1ccccc1', 'C1=C2CCCCC2C2CCC3C(c4cccnc4)=CCC3C2C1', 'O=C(NCCC1CCC1)C1NCC2CC21', 'C(=C1SCC(c2ccccc2)S1)n1ccnc1', 'O=C(Nc1cccc(-n2ccnc2)c1)c1cccc(Nc2nccc(-c3cccnc3)n2)c1', 'O=C1C=C2C(CC1)C1CCC3C(C4CC4C34CCC(=O)O4)C1C1CC21', 'O=C1C=CC(=O)c2ccccc21', 'O=C(Cc1cccnc1)c1cccnc1', 'O=C1NC(=O)C(Cc2ccc(OCCNc3cc(Oc4ccccc4)ncn3)cc2)S1', 'O=S(=O)(Nc1ccnn1-c1ccccc1)c1ccccc1', 'O=c1cc[nH]c(=S)[nH]1', 'c1cc2c(cc1OC1CCCC1)CCC1C2CCC2CCCC21', 'c1nc(Sc2cnc[nH]2)c2[nH]cnc2n1', 'S=c1nc[nH]c2nc[nH]c12', 'C1CCC(OC2CCCO2)OC1', 'O=c1cccc(C2CCCCC2)[nH]1', 'O=C(NC1CCCNC(=O)C2CCCN2C(=O)CNC(=O)C(CCc2ccccc2)NC(=O)C2CCCN2C(=O)CNC1=O)c1ccc(-c2cc(-c3ccccc3)on2)cc1', 'S=C(Nc1ccccc1)Oc1ccc2ccccc2c1', 'O=C1CCCCNC(=O)C2CCCN2C(=O)CNC(=O)C(CCc2ccccc2)NC(=O)C2CCCN2C(=O)CN1', 'B1OCc2ccccc21', 'c1ccc(CSC(Cn2ccnc2)c2ccccc2)cc1', 'O=c1nccc[nH]1', 'O=C(NC1CCCNC(=O)C2CCCN2C(=O)CNC(=O)C(CCc2ccccc2)NC(=O)C2CCCN2C(=O)CNC1=O)c1ccc(-c2ccc(-c3ccccc3)cc2)cc1', 'c1ccc(NCc2ccc3ncncc3c2)cc1', 'O=C1C=CC2OC2CCCC2CCCC(CC(OC3CCCCO3)C=CC=CC=CC=CCCO1)O2', 'O=C1CCCCCCCCCCCC2CCCC(CC(OC3CCCCO3)C=CC=CC=CC=CC=CC=CC=CCCCCO1)O2', 'O=C1CCCCCCCCCCCC2CCCC(CC(OC3CCCCO3)C=CC=CC=CC=CCCC=CC=CCCCCO1)O2', 'C=C1CCN(CC(Cn2cncn2)c2ccccc2)CC1', 'c1ccc(C(Cn2ccnc2)OCc2ccsc2)cc1', 'c1ccc(C2(Cn3cncn3)OCC(COc3ccc(N4CCNCC4)cc3)O2)cc1', 'c1ccc(-c2ccc(C(c3ccccc3)n3ccnc3)cc2)cc1', 'c1ccc(C(Cn2ccnc2)OCc2csc3ccccc23)cc1', 'C1CO1', 'C1CNCNC1', 'c1ccc(CNCc2cccc3ccccc23)cc1', 'c1ccc(CCC(Cn2ccnc2)Sc2ccccc2)cc1', 'C1CNCCN1', 'O=C1OCC2Cc3cc4c(cc3C(c3ccccc3)C12)OCO4.O=C1OCC2Cc3cc4c(cc3C(c3ccccc3)C12)OCO4.c1ccc(C2CCCc3cc4c(cc32)OCO4)cc1.c1ccc(C2CCCc3cc4c(cc32)OCO4)cc1', 'O=C1Cc2cc3n(c(=O)c2CO1)Cc1cc2ccccc2nc1-3', 'c1ccc(Cn2cncn2)cc1', 'O=C1C=CC(=O)C2=C1CC1C3NC3CN21', 'O=c1ncncn1C1CCCO1', 'O=C1CN(CCN2CC(=O)NC(=O)C2)CC(=O)N1', 'O=C1c2ccccc2C(=O)c2cnccc21', 'c1ccc2nn(-c3ccc(C4CCCNC4)cc3)cc2c1', 'O=C1c2ccc(N3CCC(N4CCOCC4)CC3)cc2Cc2[nH]c3ccccc3c21', 'c1ccc(Nc2ncnc3cc(OCC4CCNCC4)ccc23)cc1', 'O=C(CNC(=O)CNC(=O)C(Cc1ccccc1)NC(=O)CNC(=O)C(Cc1c[nH]c2ccccc12)NC(=O)C(Cc1cnc[nH]1)NC(=O)C1CCC(=O)N1)NCC(=O)N1CCCC1', 'C1=CC23CCCN2CCc2cc4c(cc2C3C1)OCO4', 'c1ccc(Nc2nccc(-c3c[nH]c4ccccc34)n2)cc1', 'O=C(c1ccccc1Nc1ccccc1)N1CC(C2CCCCN2)C1', 'O=C1CCC(N2Cc3ccccc3C2=O)C(=O)N1', 'O=C1C=CC2C(=C1)CCC1C3CCC(=O)OC3CCC21', 'O=C1C=C2C=CC3C4CCCC4CCC3C2CC1', 'C1=CC2CCC3Nc4ccc(C5CC6CCCN(Cc7c5[nH]c5ccccc75)C6)cc4C34CCN(C1)C24', 'c1ncncn1', 'c1ccc(CCc2cnc3ncncc3n2)cc1', 'O=C1c2cc3ccc(OC4CC(OC5CCCCO5)CCO4)cc3cc2CCC1OC1CC(OC2CC(OC3CCCCO3)CCO2)CCO1', 'c1ccc(Oc2ccc(-c3nn(C4CCCNC4)c4ncncc34)cc2)cc1', 'c1ccc(NCc2cnc3ncncc3n2)cc1', 'c1ccc(Nc2c3ccccc3nc3ccccc23)cc1', 'O=c1nc[nH]c2[nH]cc(CCc3ccccc3)c12', 'C(=Cc1n[nH]c2cc(Sc3ccccc3)ccc12)c1ccccn1', 'O=C1CCCCCCC2OC2CC(C=Cc2cscn2)NC(=O)CCC1', 'O=C1Cc2cc3n(c(=O)c2CO1)Cc1cc2cc(OC(=O)N4CCC(N5CCCCC5)CC4)ccc2nc1-3', 'C1=Nc2c(ncn2C2CCCO2)CCN1', 'O=C(Nc1ccc(N2CCOCC2)nc1)c1cccc(-c2ccccc2)c1', 'C=C1CC2CCC34CC5OC6C(OC7CCC(CC(=O)CC8CCOC8CC8OC(CCC8=C)CCC1O2)OC7C6O3)C5O4', 'O=C(CN1CCOCC1)NC(CCc1ccccc1)C(=O)NCC(=O)NC(Cc1ccccc1)C(=O)NCC(=O)C1CO1', 'O=c1ccn(C2CC2)c2cc(N3CC4CCCNC4C3)ccc12', 'C=C1CCCCC1=CC=C1CCCC2C(CC=CCC3CC3)CCC12', 'O=C1C=C2C=CC3C4CCCC4CCC3C2C2CC12', 'O=C(CNC(=O)C(Cc1c[nH]c2ccccc12)NC(=O)C(Cc1ccccc1)NC(=O)CNC(=O)C(Cc1c[nH]c2ccccc12)NC(=O)C(Cc1c[nH]cn1)NC(=O)C1CCC(=O)N1)NCC(=O)N1CCCC1', 'O=C1CNC(=O)C(Cc2c[nH]c3ccccc23)NC(=O)C(Cc2ccccc2)NC(=O)C(NC(=O)CCc2ccccc2)CSSCC(C(=O)NCCc2c[nH]c3ccccc23)NC(=O)CN1', 'O=C(CN1CCNCC1)Nc1ccc(NC(=C2C(=O)Nc3ccccc32)c2ccccc2)cc1', 'O=C(CNC(=O)C(Cc1ccccc1)NC(=O)C(Cc1ccc(NC(=O)C2CC(=O)NC(=O)N2)cc1)NC(=O)CNC(=O)C(Cc1cccnc1)NC(=O)C(Cc1ccccc1)NC(=O)CCc1ccc2ccccc2c1)NCC(=O)N1CCCC1', 'O=c1nc[nH]c2ccc(CNc3cccs3)cc12', 'O=C(CCCNC(=O)C(NC(=O)c1ccncn1)C(OC1OCCCC1OC1CCCCO1)c1c[nH]cn1)NCC(=O)NCCc1nc(-c2nccs2)cs1', 'C1=CC2OC23CCC2C4CCCC4CCC2C3C1', 'O=C(Nc1cccc(C(=O)Nc2cccc(C(=O)Nc3cccc4ccccc34)c2)c1)Nc1cccc(C(=O)Nc2cccc(C(=O)Nc3cccc4ccccc34)c2)c1', 'c1ccc(Nc2ccnc3cc(OCCCN4CCNCC4)ccc23)cc1', 'O=C1CNC(=O)C2CCCN2C(=O)CNC(=O)C(NC(=O)c2cc(=O)cc3oc4cccc(C(=O)NC5COC(=O)CNC(=O)CNC(=O)C6CCCN6C(=O)CNC5=O)c4nc2-3)COC(=O)CN1', 'O=c1cc2c(c(Nc3ccccc3)[nH]1)c(=O)n(C1CC1)c(=O)n2-c1ccccc1', 'O=c1[nH]nnc2cncn12', 'O=c1ccn(C2CC2)c2cc(N3CCCCCC3)ccc12', 'C=C1CC2C(CCC3C(=O)CCC32)C2C=CC(=O)C=C12', 'O=S(=O)(Nc1ccccc1)c1ccccc1', 'O=C1c2ccccc2C(=O)c2ccccc21', 'O=c1c(-c2ccccc2)cc(-c2ccccn2)cn1-c1ccccc1', 'O=C(c1ccccc1-n1nccn1)N1CCCN(c2nc3ccccc3o2)CC1', 'O=C1NCc2cncn2-c2ccccc21', 'C1=CC2c3ccccc3OCC2CC1', 'O=C(CCCN1CC=C(n2c(=O)[nH]c3ccccc32)CC1)c1ccccc1', 'O=C1CCC2COc3ccccc3C2C1', 'C1OCOCO1', 'c1ccc2c(c1)OCO2', 'c1ccc(-c2ccnc3ccnn23)cc1', 'O=c1nc[nH]c2[nH]cnc12', 'O=C(NCc1ccccc1)c1ccccc1', 'C1CC[NH+](C2CC3CCC4C5CC(N6CCOCC6)CCC5CCC4C3C2)C1', 'O=C(CC[NH+]1CCc2ccccc2C1Cc1ccccc1)OCCCCCOC(=O)CC[NH+]1CCc2ccccc2C1Cc1ccccc1', 'O=C(CCC(=O)OCCC[NH+]1CCc2ccccc2C1Cc1ccccc1)OCCC[NH+]1CCc2ccccc2C1Cc1ccccc1', 'O=C(CCC=CCCC(=O)OCCC[NH+]1CCc2ccccc2C1Cc1ccccc1)OCCC[NH+]1CCc2ccccc2C1Cc1ccccc1', 'c1cc2cc(c1)Oc1ccc3c(c1)C(Cc1ccc(cc1)Oc1cccc4c1C(C2)[NH2+]CC4)[NH2+]CC3', 'C(=Cc1cccs1)C1=NCCCN1', 'O=C(NCC[NH2+]Cc1ccccc1)C(=O)NCC[NH2+]Cc1ccccc1', 'c1ccc2c(c1)NC1NCCC21', 'c1cc[nH+]cc1', 'O=C(NCCCCCCCCCCNC(=O)Oc1ccccc1)Oc1ccccc1', 'c1ccc(CC2CCCCN2)cc1', 'c1ccc(CN2CCCCC2)cc1', 'O=C1C=CCO1', 'c1ccc2c(c1)CC1NCCc3cccc-2c31', 'c1ncn(Cc2ccc3[nH]ccc3c2)n1', 'c1ccc2c(CCCCN3CCN(c4ccc5occc5c4)CC3)c[nH]c2c1', 'c1ccc2c3c([nH]c2c1)CCCC3', 'O=C1NC(Cc2ccc3[nH]ccc3c2)CO1', 'c1ccc2c(C3CCNCC3)c[nH]c2c1', 'O=C1CCc2ccc(cc2)Oc2cc3cc(c2OC2OCCCC2OC2CCCCO2)Oc2ccc(cc2)CC2NC(=O)C(NC(=O)C3NC(=O)CN1)c1cccc(c1)-c1ccccc1CNC2=O', 'c1ccc(C(Cc2cccc3ccccc23)c2cnc3ccccc3c2)cc1', 'O=C1Cc2ccccc2CCN1CCCNCC1Cc2ccccc21', 'O=C(CCc1ccccc1)c1ccccc1', 'O=C(CNC(=O)C(Cc1cn(Cc2ccccc2)cn1)NC(=O)C(Cc1ccccc1)NC(=O)CNC(=O)C(Cc1c[nH]c2ccccc12)NC(=O)C(Cc1c[nH]cn1)NC(=O)C1CCC(=O)N1)NCC(=O)N1CCCC1', 'O=C(NCC1CCCCN1)c1ccccc1', 'c1ccc(Nc2ccnc(Nc3ccccc3)n2)cc1', 'c1ccc(N=c2ccnc(Nc3ccc(C4CCNCC4)cc3)[nH]2)cc1', 'O=C1NCNc2ccccc21', 'O=C1CCCC(OC2CCC(OC3CCCCO3)CO2)CCCCC=CC=CCCO1', 'c1ccc2c(c1)NC1C3CC4CCN3C3CC21CC43', 'O=C1CCCNC(=O)CNC(=O)CNC(=O)CNC(=O)CNC(=O)CNC(=O)CN1', 'C=C1NC(=O)CNC(=O)CNC(=O)CCNC(=O)C(C2CCN=CN2)NC1=O.C=C1NC(=O)CNC(=O)CNC(=O)CCNC(=O)C(C2CCN=CN2)NC1=O', 'C1=COC(OC2CCCC(OC3CCCCO3)C2)CC1', 'C1CCC(OC2COC(OC3CCCCC3OC3CCCCO3)C2)OC1', 'C1CCC(OC2OCCC2OC2CCCCO2)CC1', 'O=C1CCCNC(=O)CNC(=O)CNC(=O)CNC(=O)CNC(=O)C(Cc2ccccc2)NC(=O)CN1', 'C1CCC(OC2CCCC(OC3CCCCO3)C2)OC1', 'O=C1CCOC2OC3CCCCC3OC12', 'C1CCC(OC2CCCCC2OC2CCCO2)OC1', 'O=C1C=C(C2CCC3C2CCC2C4CCC(OC5CCCCO5)CC4CCC23)CO1', 'O=C1C=C(C2CCC3C2CCC2C4CCC(OC5CCC(OC6CCC(OC7CCC(OC8CCCCO8)CO7)CO6)CO5)CC4CCC23)CO1', 'O=C1CNC(=O)CNC(=O)C(Cc2ccccc2)NC(=O)CCCSCC(C(=O)N2CCCC2)NC(=O)CN1', 'c1ccc(-c2cnc3ncncc3n2)cc1', 'O=C1CCC(c2ccccc2)=NN1', 'O=c1ccncn1Cc1ccc(-c2ccccc2-c2nnn[nH]2)cc1', 'O=C(OCc1coc(=O)o1)c1cccc2ncn(Cc3ccc(-c4ccccc4-c4noc(=O)[nH]4)cc3)c12', 'c1nc2c(s1)CCCC2', 'N=c1[nH]ncs1', 'c1ccc(Cc2nccc3ccccc23)cc1', 'c1cc(Nc2ncc3ccn(C4CCCC4)c3n2)ncc1N1CCNCC1', 'O=S(=O)(Nc1ccncn1)c1ccccc1', 'C1=NN=C(c2ccccc2)c2ccccc2C1', 'c1ccc(OCC2CNCCO2)cc1', 'N=C(c1ccccc1)c1ccccc1', 'O=C1C=C(C2CCC(c3ccccc3)CC2)C(=O)c2ccccc21', 'O=C(OC1CC2CCC(C1)N2)c1c[nH]c2ccccc12', 'O=S(=O)(Nc1cnccn1)c1ccccc1', 'c1ccc(SCSc2ccccc2)cc1', 'c1ccc(-c2cncnc2)cc1', 'c1ccc2c(c1)Cc1ccccc1N2', 'c1ccc(-c2csc(CC(Cn3cncn3)c3ccccc3)n2)cc1', 'O=C(Nc1ccncc1)c1cccc(OCC2CC2)c1', 'c1nc(NC2CCCNC2)c2cc[nH]c2n1', 'O=C(Cn1ccnc1)NCc1ccccc1', 'O=c1ccc2cnc(Nc3ccc(N4CCNCC4)cn3)nc2n1C1CCCC1', 'O=C1CCON1', 'O=C1CC2CC=CN12', 'O=C(c1c[nH]c2ccccc12)C1CCc2[nH]cnc2C1', 'O=C(CCc1ccccc1)N(Cc1ccccc1)Cc1nc(-c2ccccc2)c[nH]1', 'c1ccc(C2CC3CCC(C2)N3)cc1', 'O=C(OCC1CNC2Cc3c[nH]c4cccc(c34)C2C1)c1cccnc1', 'c1ccc(CCOC2CCCCC2N2CCCC2)cc1', 'O=C1CCNC(=O)C1', 'O=C(Nc1ccccc1CCC1CCCCN1)c1ccccc1', 'c1ccc2scnc2c1', 'O=c1[nH]c(=O)c2[n-]cnc2[nH]1', 'B1OCc2cc(Oc3ccccc3)ccc21', 'c1cc(-c2cnc(C3CCCN3)[nH]2)ccc1-c1ccc(-c2cnc(C3CCCN3)[nH]2)cc1', 'c1cc(-c2ccc3nc[nH]c3c2)nc(Nc2ccc(CN3CCNCC3)cn2)n1', 'c1ccc(N2CCN(C3=Nc4ccccc4CN3c3ccccc3)CC2)cc1', 'c1cc(-c2n[nH]c(-c3ccncc3)n2)ccn1', 'O=C1CC(c2ccccc2)Oc2ccccc21', 'O=C(C1CCCCC1)N1CC(=O)N2CCc3ccccc3C2C1', 'O=C(NC(CCN1C2CCC1CC(n1cnnc1)C2)c1ccccc1)C1CCCCC1', 'c1ccc2[nH]c(-c3cscn3)nc2c1', 'c1ccc(NC2Cc3ccccc3C2)cc1', 'O=c1nc[nH]c2ncc(CNc3ccccc3)nc12', 'O=C1CCSSCCNC(=O)CNC(=O)CNC(=O)C(Cc2ccccc2)NC(=O)CNC(=O)CNC(=O)C(Cc2c[nH]c3ccccc23)NC(=O)C(Cc2ccccc2)NC(=O)C(Cc2ccccc2)NC(=O)CNC(=O)CN1', 'c1c[nH+]ccn1', 'O=C(NCc1ccccc1)c1cc(=O)[nH]c(CNC(=O)c2nnco2)n1', 'O=C(Nc1ccc(C(=O)N2CCCCc3ccccc32)cc1)c1ccccc1', 'c1ccc(Cn2ccnn2)cc1', 'O=C1OC(OC(=O)c2cccnc2Nc2ccccc2)c2ccccc21', 'O=c1ccn(C2C=CCO2)c(=O)[nH]1', 'c1cnc2cc3c(cc2n1)C1CNCC3C1', 'O=C(CCN1CCOCC1)N1c2ccccc2Sc2ccccc21', 'O=C1OCCN1c1ccc(N2CCOCC2)cc1', 'O=c1[nH]c(=O)c2c(ncn2CC2OCCO2)[nH]1', 'c1ccc(-c2nc(-c3ccccc3)n(-c3ccccc3)n2)cc1', 'c1ccc(CCCN2CCC(c3ccccc3)CC2)cc1', 'O=C(OCCN1CCOCC1)c1cccnc1Nc1ccccc1', 'O=C1OCCN1c1ccc(-c2ccc(-c3nn[nH]n3)nc2)cc1', 'c1ccc(C2CNCCO2)cc1', 'O=C(Nc1ccccc1)c1c[nH]c2ccccc2c1=O', 'c1ccc2c(c1)CCCC2C1=NCCN1', 'O=S(=O)(Nc1ccccn1)c1ccccc1', 'O=c1[nH]cnc2c1NCCN2', 'O=C(CCCc1ccccc1)OCC(COC(=O)CCCc1ccccc1)OC(=O)CCCc1ccccc1', 'O=C1C(CCCc2ccccc2)C(c2ccccc2)N1c1ccccc1', 'c1nncs1', 'O=c1[nH]cnc2[nH]cnc12', 'O=C(CCc1c[nH]c2ccccc12)NCC(=O)NCC(=O)NC1COC(=O)C(CC(=O)c2ccccc2)NC(=O)CNC(=O)CNC(=O)CNC(=O)CNC(=O)CNC(=O)CNC(=O)CNC(=O)CNC1=O', 'O=C1OCCC=CC=CC(OC2CCCCO2)CC=CCCC=CC=C1COC1CCC(OC(=O)c2ccccc2)CO1', 'O=C(OOC(=O)c1ccccc1)c1ccccc1', 'c1ccc(C2CCc3ccccc3C2c2ccc(OCCN3CCCC3)cc2)cc1', 'O=C1CCC=CC=CCNC(=O)C=CCCOC(=O)C2CCCN2C(=O)c2coc(n2)C1', 'c1ccc(CN2CCNCC2)cc1', 'O=c1ncccn1C1CSCO1', 'O=C1CCC2C3Cc4cccc5c4C2(CC[NH+]3CC2CC2)C1O5', 'O=c1nc(NS(=O)(=O)c2ccccc2)cc[nH]1', 'C1N2CN3CN1CN(C2)C3', 'O=C1CN(N=Cc2ccco2)C(=O)N1', 'O=C(NC1COC(=O)C(c2ccccc2)NC(=O)C2CC(=O)C(CSC3CN4CCC3CC4)CN2C(=O)C(Cc2ccccc2)NC(=O)C2CCCN2C(=O)CNC1=O)c1ccccn1', 'c1cnn(-c2ncc3ncn(C4CCCO4)c3n2)c1', 'C=C1CCCC1n1cnc2c(=O)nc[nH]c21', 'c1ccc(N=Nc2cccnc2)cc1', 'O=S(=O)([N-]c1ncccn1)c1ccccc1', 'O=S1(=O)NC(CSCc2ccccc2)=Nc2ccccc21', 'O=C(CCCCC(=O)Nc1ccccc1)Nc1ccccc1', 'O=C(NCN1CCCC1)C1=CCC2CC3Cc4ccccc4C(=O)C3=CC2C1=O', 'O=c1[nH]cnc2c1NC(CNc1ccccc1)CN2', 'c1ncn(C2CCCO2)n1', 'C1=CC(n2cnc3c(NC4CC4)ncnc32)CC1', 'c1ccc(NCCCNc2ccccc2)cc1', 'C=C1CCC2C1CCC1C3CCCCC3CCC21', 'O=c1nc[nH]c2c1ncn2C1CCCO1', 'O=S(=O)(Nc1nccs1)c1ccccc1', 'O=S(=O)(Nc1nncs1)c1ccccc1', 'O=C(NCc1nc(-c2ccccc2)no1)C1=CC2Oc3cccc4c3C23CCN(CC2CC2)C(C4)C3C1', 'O=C(OCCOCCN1CCCCC1)N1c2ccccc2Sc2cccnc21', 'c1ccc(-c2cc3ccccc3n2Cc2ccc(OCCN3CCCCCC3)cc2)cc1', 'c1ccc(Nc2ncnc3cc(OC4CCOC4)ccc23)cc1', 'O=C1CCC2C3Cc4cccc5c4C2(CCN3CC2CC2)C1O5', 'O=c1ccn(C2CCC(CO[PH](=O)Oc3ccccc3)O2)c(=O)[nH]1', 'O=C1CNC(=O)CNC(=O)C(Cc2c[nH]cn2)NC(=O)C(Cc2ccccc2)NC(=O)CNC(=O)CNC(=O)C(NC(=O)CNC(=O)CNC(=O)CNC(=O)C2CSC=N2)CCCCN1', 'c1c[n+](N2CCOCC2)no1', 'C1=CC2C3Cc4ccc(OCCN5CCOCC5)c5c4C2(CCN3)C(C1)O5', 'O=C(Nc1ccccc1C(=O)Nc1ccccn1)c1ccccc1', 'O=C(CCc1c[nH]cn1)NCC(=O)NCC(=O)NCC(=O)NCC(=O)NC(Cc1ccccc1)C(=O)NCC(=O)NCC(=O)NCC(=O)NCC(=O)NCC(=O)NCC(=O)NCC(=O)NCC(=O)NCC(=O)NCC(=O)NCC(=O)NCC(=O)NCC(=O)NCC(=O)NCC(=O)NC(Cc1ccccc1)C(=O)NCC(=O)NCC(=O)NC(Cc1c[nH]c2ccccc12)C(=O)NCC(=O)NCC(=O)NCC(=O)NCC(=O)NCC(=O)N1CCCC1C(=O)NCC(=O)NCC(=O)NCC(=O)NCC(=O)N1CCCC1C(=O)N1CCCC1', 'c1ccc(C(c2ccccc2)c2ccccn2)cc1', 'O=C1CC2CCCOC2C1', 'c1ccc2c(c1)CC1CCCNC1C2', 'O=C(CNC(=O)CNC(=O)CNC(=O)CNC(=O)CNC(=O)CNC(=O)CNC(=O)CNC(=O)CNC(=O)CNC(=O)CNC(=O)CNC(=O)CNC(=O)CNC(=O)CNC(=O)CNC(=O)CNC(=O)CNC(=O)C(Cc1cnc[nH]1)NC(=O)C(Cc1ccccc1)NC(=O)CNC(=O)CNC(=O)CNC(=O)CNC(=O)CNC(=O)CNC(=O)C1CCCN1C(=O)C1CCCN1)NCCc1cnc[nH]1', 'O=C1CNC(=O)CNC(=O)C(Cc2c[nH]c3ccccc23)NC(=O)C(Cc2ccccc2)NC(=O)C(NC(=O)C(Cc2ccccc2)NC(=O)CN2CCNCCNCCNCC2)CSSCCN1', 'O=C(NCc1ccccc1)N(Cc1ccccc1)C1CCNCC1', 'N=C1CCCN1Cc1cc(=O)[nH]c(=O)[nH]1', 'N=C(C(=O)NC1C(=O)N2C=C(C[NH+]3CCCC3)CSC12)c1cscn1', 'O=C1C=C2CCC3C(=C2CC1)C=CC1CCCC13', 'c1ccc(CNc2ncccn2)cc1', 'N=C(C(=O)NC1CNC1=O)c1cscn1', 'O=c1ccn(C2CC2)c2cc(-c3cccnc3)ccc12', 'c1ccc(-c2cc(N3CCNCC3)nc3c2CCCCCC3)cc1', 'C=C1c2ccccc2C(=O)C2=CC3C(=O)C=CCC3CC12', 'C=C1NC(=O)CNC(=O)CNC(=O)CCNC(=O)C(C2CCNC(=N)N2)NC1=O', 'C=C1CN2C(=O)CC2O1', 'O=C1COC(=O)CNC(=O)COC(=O)CNC(=O)COC(=O)CN1', 'c1ccc2c(c1)CCn1ccnc1C2=C1CCNCC1', 'O=C1CC(OC2CCCCO2)CC(OC2CCCCO2)CCCC2CC(CCO1)OCN2', 'O=C1CCc2ccc(cc2)Oc2cc3cc(c2OC2OCCCC2OC2CC(NCc4ccc(-c5ccccc5)cc4)CCO2)Oc2ccc(cc2)C(OC2CCCCO2)C2NC(=O)C(NC(=O)C3NC(=O)CN1)c1cccc(c1)-c1ccccc1CNC2=O', 'O=C(Nc1cc2ccc(OC3CCCCO3)cc2oc1=O)c1ccccc1', 'O=C(Nc1ccccc1)C1CC(SC2=CN3C(=O)CC3C2)CN1', 'O=C(CCc1c[nH]c2ccccc12)NCC(=O)NC(Cc1c[nH]c2ccccc12)C(=O)NCC(=O)NC(Cc1c[nH]c2ccccc12)C(=O)NCC(=O)NCCc1c[nH]c2ccccc12', 'C=C(C(=O)NC1C(=O)N2C=CCSC12)c1cscn1', 'O=C(CCC1CC2N=C1C=C1CCC(=N1)C=C1CCC(=N1)C=C1CCC2N1)NCCO[PH](=O)OC1COC(n2cnc3ccccc32)C1', 'O=C(Nc1cccc2c(=O)cc(-c3nn[nH]n3)oc12)c1ccc(OCCCCc2ccccc2)cc1', 'C1COCC(CC2CO2)C1', 'O=C1CC2CC(SC3CCNC3)=CN12', 'O=C(NC(C(=O)NC1C(=O)N2C=C(CSc3nnn[nH]3)CSC12)c1ccccc1)c1cccnc1', 'c1ccc2c(c1)Nc1ncccc1S2', 'C=C1NC(=O)CNC(=O)CNC(=O)CCNC(=O)C(C2CCN=CN2)NC1=O', 'O=C(CNC(=O)C(Cc1ccc2ccccc2c1)NC(=O)C(Cc1ccccc1)NC(=O)CNC(=O)C(Cc1c[nH]c2ccccc12)NC(=O)C(Cc1c[nH]cn1)NC(=O)C1CCC(=O)N1)NCC(=O)N1CCCC1', 'O=C(Cc1ccccc1)NC1C(=O)N2C=C(CSc3nnn[nH]3)COC12', 'C1CCC(OC2CCOC2)OC1', 'c1ccc(CNc2ccccn2)cc1', 'N=C(C(=O)NC1C(=O)N2C=C(C=Cc3cncs3)CSC12)c1cscn1', 'O=C1Cc2ccccc2C(=C2CCNCC2)c2ccsc21', 'O=c1c(-c2nn[nH]n2)cnc2ccccn12', 'O=C1CN2CCOC2(c2ccccc2)c2ccccc2N1', 'c1ccc(CN(CC2=NCCN2)c2ccccc2)cc1', 'c1ccc2[nH]c(N3CCCNCC3)nc2c1', 'C1=C(Cc2ccccn2)c2ccccc2C1', 'c1ccc(C2C3=C(CCNC3)c3ccccc32)cc1', 'O=c1ccn(C2CC2)c2cc(N3CC4NCCOC4C3)ccc12', 'O=C1NC2CCCN1C2', 'O=C1NCC(CCN2CCOCC2)C1(c1ccccc1)c1ccccc1', 'O=c1cccc[nH]1', 'c1ccc(C2CCN(c3ccc(N4C(c5ccc6[nH]c(C7CCCN7)nc6c5)CCC4c4ccc5[nH]c(C6CCCN6)nc5c4)cc3)CC2)cc1', 'c1cc2c(cc1-c1ccc3[nH]c(C4NC5CCC4C5)nc3c1)Cc1cc(-c3c[nH]c(C4CC5(CC5)CN4)n3)ccc1-2', 'O=C(NC1CCNCC1)c1cccc2c1OCC2', 'O=C1NCC(=O)N2CC(CC2C(=O)NC2(C(=O)NS(=O)(=O)C3CC3)CC2)Oc2nc3ccccc3nc2CC=CCOC2CCCC2O1', 'C1CCC1', 'c1ccc2c(c1)CCCN2', 'O=C(NCc1ccccc1)c1cn2c(cc1=O)C(=O)N1CCCOC1C2', 'c1ccc(-c2nccs2)cc1', 'O=c1ccn(-c2ccccn2)c2cc(N3CCC3)ccc12', 'O=c1cc[nH]cc1', 'C1O[SbH]2(O[SbH]34OCC(CO3)O4)OCC1O2', 'O=c1c2ccccc2sc2ccccc12', 'O=C(c1ccccc1)c1ccc2[nH]cnc2c1', 'O=C1O[Zn]NC1Cc1cnc[nH]1', 'C(=Cc1ccc2ccccc2[nH+]1)c1ccn(-c2ccccc2)c1', 'O=C1O[BiH]Oc2ccccc21', 'c1ncc(C[n+]2ccsc2)cn1', 'C1=CC(c2ccccc2)CCC1', 'O=C(CCc1ccccc1)NCC(=O)NCC(=O)NCC(=O)NC(Cc1cnc[nH]1)C(=O)NC(Cc1ccccc1)C(=O)NCC(=O)NC(Cc1c[nH]c2ccccc12)C(=O)NCC(=O)NCC(=O)N1CCCC1C(=O)NCC(=O)NCC(=O)NCC(=O)NCC(=O)NCC(=O)NCC(=O)N1CCCC1C(=O)NCC(=O)NCC(=O)NCC(=O)NC(Cc1ccccc1)C(=O)N1CCCC1', 'O=c1ccn(C2CC(O[PH](=O)OCC3OC(n4cccnc4=O)CC3O[PH](=O)OCC3OC(n4cnc5cncnc54)CC3O[PH](=O)OCC3OC(n4cnc5c(=O)[nH]cnc54)CC3O[PH](=O)OCC3OC(n4ccc(=O)[nH]c4=O)CC3O[PH](=O)OCC3OC(n4cccnc4=O)CC3O[PH](=O)OCC3OC(n4ccc(=O)[nH]c4=O)CC3O[PH](=O)OCC3OC(n4cnc5c(=O)[nH]cnc54)CC3O[PH](=O)OCC3OC(n4cccnc4=O)CC3O[PH](=O)OCC3OC(n4ccc(=O)[nH]c4=O)CC3O[PH](=O)OCC3OC(n4ccc(=O)[nH]c4=O)CC3O[PH](=O)OCC3OC(n4cccnc4=O)CC3O[PH](=O)OCC3OC(n4cnc5c(=O)[nH]cnc54)CC3O[PH](=O)OCC3OC(n4cccnc4=O)CC3O[PH](=O)OCC3OC(n4cnc5cncnc54)CC3O[PH](=O)OCC3OC(n4cccnc4=O)CC3O[PH](=O)OCC3CCC(n4cccnc4=O)O3)C(CO[PH](=O)OC3CC(n4cccnc4=O)OC3CO[PH](=O)OC3CC(n4cccnc4=O)OC3CO[PH](=O)OC3COC(n4cnc5c(=O)[nH]cnc54)C3)O2)c(=O)[nH]1'])\n"
     ]
    }
   ],
   "source": [
    "all_key = scaffolds.keys()\n",
    "print(all_key)"
   ],
   "metadata": {
    "collapsed": false,
    "pycharm": {
     "name": "#%%\n"
    }
   }
  },
  {
   "cell_type": "code",
   "execution_count": 43,
   "outputs": [
    {
     "name": "stdout",
     "output_type": "stream",
     "text": [
      "153853 35508 2276 191637\n",
      "done\n"
     ]
    }
   ],
   "source": [
    "all_key = scaffolds.keys()\n",
    "print(all_key)\n",
    "train_scaffold = random.sample(all_key, round(len(all_key) * 0.88))\n",
    "\n",
    "train_idx = []\n",
    "test1_idx = []\n",
    "test2_idx = []\n",
    "for i in range(len(df)):\n",
    "    if train_scaffold.__contains__(smile_scafold[df.loc[i, 'Drug1']]) \\\n",
    "            and train_scaffold.__contains__(smile_scafold[df.loc[i, 'Drug2']]):\n",
    "        train_idx.append(i)\n",
    "    elif not train_scaffold.__contains__(smile_scafold[df.loc[i, 'Drug1']]) \\\n",
    "            and not train_scaffold.__contains__(smile_scafold[df.loc[i, 'Drug2']]):\n",
    "        test2_idx.append(i)\n",
    "    else:\n",
    "        test1_idx.append(i)\n",
    "print(len(train_idx), len(test1_idx), len(test2_idx), len(train_idx)+len(test1_idx)+len(test2_idx))\n",
    "if len(train_idx) > 150000:\n",
    "    df_old = df.loc[train_idx]\n",
    "    df_old = df_old.reset_index()\n",
    "    df_old.to_csv('./datasets/drugbank1/drugbank_train.csv')\n",
    "\n",
    "    df_test1_idx = df.loc[test1_idx]\n",
    "    df_test1_idx = df_test1_idx.reset_index()\n",
    "    df_test1_idx.to_csv('./datasets/drugbank1/drugbank_test1.csv')\n",
    "\n",
    "    df_test2_idx = df.loc[test2_idx]\n",
    "    df_test2_idx = df_test2_idx.reset_index()\n",
    "    df_test2_idx.to_csv('./datasets/drugbank1/drugbank_test2.csv')\n",
    "    print(\"done\")\n"
   ],
   "metadata": {
    "collapsed": false,
    "pycharm": {
     "name": "#%%\n"
    }
   }
  },
  {
   "cell_type": "code",
   "execution_count": 4,
   "outputs": [],
   "source": [
    "def search_index(unique_smiles, df, num_class, num_limit):\n",
    "\n",
    "    vec_list = []\n",
    "    for smi in unique_smiles:\n",
    "        m1 = Chem.MolFromSmiles(smi)\n",
    "        fp4 = list(AllChem.GetMorganFingerprintAsBitVect(m1, radius=2, nBits=256))\n",
    "        vec_list.append(fp4)\n",
    "    print(\"@@@@@@@@@@@\", len(vec_list))\n",
    "    Z = linkage(vec_list, 'average', metric='jaccard')\n",
    "    cluster = cut_tree(Z, num_class).ravel()\n",
    "    stat_dict = {k: v for k, v in sorted(Counter(cluster).items(), key=lambda item: item[1], reverse=True)}\n",
    "\n",
    "    num = 0\n",
    "    data_dict = defaultdict(list)\n",
    "    for k,v in stat_dict.items():\n",
    "        pos = np.nonzero(cluster==k)[0]\n",
    "        # print(k, stat_dict[k], len(pos))\n",
    "        smi_idx = []\n",
    "        for idx in pos:\n",
    "            smi_single = df[df[\"Drug1\"] == unique_smiles[idx]]\n",
    "            smi_idx.append(smi_single)\n",
    "        df_tmp = pd.concat(smi_idx)\n",
    "        num += len(df_tmp)\n",
    "        data_dict[k] = df_tmp\n",
    "    print(\"@@@@@@@@@@@\", num)\n",
    "\n",
    "    num = 0\n",
    "    all_keys = list(data_dict.keys())\n",
    "    class_num = -1\n",
    "    meat_class = {}\n",
    "    for k,v in data_dict.items():\n",
    "        if len(v) > num_limit:\n",
    "            class_num += 1\n",
    "            meat_class[class_num] = v\n",
    "            num += len(v)\n",
    "            all_keys.remove(k)\n",
    "\n",
    "    random.shuffle(all_keys)\n",
    "\n",
    "    smi_idx = []\n",
    "    smi_idx_num = 0\n",
    "    for i,k in enumerate(all_keys):\n",
    "        # print(i, len(data_dict[k]))\n",
    "        if smi_idx_num < num_limit:\n",
    "            smi_idx.append(data_dict[k])\n",
    "            smi_idx_num += len(data_dict[k])\n",
    "        else:\n",
    "            class_num += 1\n",
    "            meat_class[class_num] = pd.concat(smi_idx)\n",
    "            num += len(meat_class[class_num])\n",
    "\n",
    "            smi_idx = []\n",
    "            smi_idx_num = 0\n",
    "            smi_idx.append(data_dict[k])\n",
    "            smi_idx_num += len(data_dict[k])\n",
    "\n",
    "        if i == len(all_keys) -1:\n",
    "            class_num += 1\n",
    "            meat_class[class_num] = pd.concat(smi_idx)\n",
    "            num += len(meat_class[class_num])\n",
    "\n",
    "\n",
    "    print(class_num, len(meat_class[class_num]),num)\n",
    "\n",
    "    if len(meat_class[class_num]) < 10:\n",
    "        meat_class.pop(class_num)\n",
    "\n",
    "    num = 0\n",
    "    for k,v in meat_class.items():\n",
    "        num += len(v)\n",
    "    print(num)\n",
    "\n",
    "    return meat_class"
   ],
   "metadata": {
    "collapsed": false,
    "pycharm": {
     "name": "#%%\n"
    }
   }
  },
  {
   "cell_type": "code",
   "execution_count": 2,
   "outputs": [
    {
     "ename": "NameError",
     "evalue": "name 'df' is not defined",
     "output_type": "error",
     "traceback": [
      "\u001B[0;31m---------------------------------------------------------------------------\u001B[0m",
      "\u001B[0;31mNameError\u001B[0m                                 Traceback (most recent call last)",
      "\u001B[0;32m/tmp/ipykernel_4028/1210474113.py\u001B[0m in \u001B[0;36m<module>\u001B[0;34m\u001B[0m\n\u001B[1;32m      1\u001B[0m \u001B[0mdf_train\u001B[0m \u001B[0;34m=\u001B[0m \u001B[0mpd\u001B[0m\u001B[0;34m.\u001B[0m\u001B[0mread_csv\u001B[0m\u001B[0;34m(\u001B[0m\u001B[0;34m'datasets/drugbank1/drugbank_train.csv'\u001B[0m\u001B[0;34m)\u001B[0m\u001B[0;34m\u001B[0m\u001B[0;34m\u001B[0m\u001B[0m\n\u001B[0;32m----> 2\u001B[0;31m \u001B[0munique_smi\u001B[0m \u001B[0;34m=\u001B[0m \u001B[0mdf\u001B[0m\u001B[0;34m[\u001B[0m\u001B[0;34m\"Drug1\"\u001B[0m\u001B[0;34m]\u001B[0m\u001B[0;34m.\u001B[0m\u001B[0munique\u001B[0m\u001B[0;34m(\u001B[0m\u001B[0;34m)\u001B[0m\u001B[0;34m\u001B[0m\u001B[0;34m\u001B[0m\u001B[0m\n\u001B[0m\u001B[1;32m      3\u001B[0m \u001B[0mmeat_class\u001B[0m \u001B[0;34m=\u001B[0m \u001B[0msearch_index\u001B[0m\u001B[0;34m(\u001B[0m\u001B[0munique_smi\u001B[0m\u001B[0;34m,\u001B[0m \u001B[0mdf_train\u001B[0m\u001B[0;34m,\u001B[0m \u001B[0;36m100\u001B[0m\u001B[0;34m,\u001B[0m \u001B[0;36m150\u001B[0m\u001B[0;34m)\u001B[0m\u001B[0;34m\u001B[0m\u001B[0;34m\u001B[0m\u001B[0m\n\u001B[1;32m      4\u001B[0m \u001B[0;31m# meat_class = search_index(unique_smi, df, 100, 100)\u001B[0m\u001B[0;34m\u001B[0m\u001B[0;34m\u001B[0m\u001B[0;34m\u001B[0m\u001B[0m\n\u001B[1;32m      5\u001B[0m \u001B[0mmeta_train\u001B[0m \u001B[0;34m=\u001B[0m \u001B[0;34m{\u001B[0m\u001B[0;34m}\u001B[0m\u001B[0;34m\u001B[0m\u001B[0;34m\u001B[0m\u001B[0m\n",
      "\u001B[0;31mNameError\u001B[0m: name 'df' is not defined"
     ]
    }
   ],
   "source": [
    "df_train = pd.read_csv('datasets/drugbank1/drugbank_train.csv')\n",
    "unique_smi = df[\"Drug1\"].unique()\n",
    "meat_class = search_index(unique_smi, df_train, 100, 150)\n",
    "# meat_class = search_index(unique_smi, df, 100, 100)\n",
    "meta_train = {}\n",
    "meta_train_num = 0\n",
    "meta_train_k_num = 0\n",
    "meta_val = {}\n",
    "meta_val_num = 0\n",
    "meta_val_k_num = 0\n",
    "meta_keys = list(meat_class.keys())\n",
    "random.shuffle(meta_keys)\n",
    "for k in meta_keys:\n",
    "    if len(meta_train.keys()) < len(meta_keys) *0.8:\n",
    "        meta_train[k] = meat_class[k]\n",
    "        meta_train_num += len(meat_class[k])\n",
    "        meta_train_k_num += 1\n",
    "    else:\n",
    "        meta_val_k_num +=1\n",
    "        meta_val[k] = meat_class[k]\n",
    "        meta_val_num += len(meat_class[k])\n",
    "print(meta_train_num, meta_train_k_num,meta_val_num,meta_val_k_num, meta_train_num+meta_val_num)\n",
    "joblib.dump(meta_train, \"datasets/drugbank1/meta_train.pkl\")\n",
    "joblib.dump(meta_val, \"datasets/drugbank1/meta_val.pkl\")\n"
   ],
   "metadata": {
    "collapsed": false,
    "pycharm": {
     "name": "#%%\n"
    }
   }
  },
  {
   "cell_type": "code",
   "execution_count": 5,
   "outputs": [
    {
     "name": "stdout",
     "output_type": "stream",
     "text": [
      "@@@@@@@@@@@ 141\n",
      "@@@@@@@@@@@ 2276\n",
      "9 271 2276\n",
      "2276\n"
     ]
    },
    {
     "data": {
      "text/plain": "['datasets/drugbank1/meta_test2.pkl']"
     },
     "execution_count": 5,
     "metadata": {},
     "output_type": "execute_result"
    }
   ],
   "source": [
    "# df = pd.read_csv('datasets/drugbank1/drugbank_test1.csv')\n",
    "df = pd.read_csv('datasets/drugbank1/drugbank_test2.csv')\n",
    "unique_smi = df[\"Drug1\"].unique()\n",
    "meat_class = search_index(unique_smi, df, 100, 200)\n",
    "# joblib.dump(meat_class, \"datasets/drugbank1/meta_test1.pkl\")\n",
    "joblib.dump(meat_class, \"datasets/drugbank1/meta_test2.pkl\")"
   ],
   "metadata": {
    "collapsed": false,
    "pycharm": {
     "name": "#%%\n"
    }
   }
  },
  {
   "cell_type": "code",
   "execution_count": 3,
   "outputs": [],
   "source": [
    "meta_train = joblib.load(\"datasets/drugbank1/meta_train.pkl\")\n",
    "meta_val = joblib.load(\"datasets/drugbank1/meta_val.pkl\")\n",
    "train_pd = []\n",
    "for k,v in meta_train.items():\n",
    "    train_pd.append(v)\n",
    "df_tmp = pd.concat(train_pd)\n",
    "df_tmp = df_tmp.reset_index(drop=True)\n",
    "df_tmp.to_csv('./datasets/drugbank1/drugbank_train.csv')\n",
    "\n",
    "\n",
    "test_pd = []\n",
    "for k,v in meta_val.items():\n",
    "    test_pd.append(v)\n",
    "df_tmp = pd.concat(test_pd)\n",
    "df_tmp = df_tmp.reset_index(drop=True)\n",
    "df_tmp.to_csv('./datasets/drugbank1/drugbank_val.csv')"
   ],
   "metadata": {
    "collapsed": false,
    "pycharm": {
     "name": "#%%\n"
    }
   }
  },
  {
   "cell_type": "code",
   "execution_count": null,
   "outputs": [],
   "source": [],
   "metadata": {
    "collapsed": false,
    "pycharm": {
     "name": "#%%\n"
    }
   }
  },
  {
   "cell_type": "code",
   "execution_count": 63,
   "outputs": [],
   "source": [],
   "metadata": {
    "collapsed": false,
    "pycharm": {
     "name": "#%%\n"
    }
   }
  },
  {
   "cell_type": "code",
   "execution_count": null,
   "outputs": [],
   "source": [],
   "metadata": {
    "collapsed": false,
    "pycharm": {
     "name": "#%%\n"
    }
   }
  }
 ],
 "metadata": {
  "kernelspec": {
   "display_name": "Python 3",
   "language": "python",
   "name": "python3"
  },
  "language_info": {
   "codemirror_mode": {
    "name": "ipython",
    "version": 2
   },
   "file_extension": ".py",
   "mimetype": "text/x-python",
   "name": "python",
   "nbconvert_exporter": "python",
   "pygments_lexer": "ipython2",
   "version": "2.7.6"
  }
 },
 "nbformat": 4,
 "nbformat_minor": 0
}